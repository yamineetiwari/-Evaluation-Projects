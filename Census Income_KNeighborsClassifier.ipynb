{
 "cells": [
  {
   "cell_type": "code",
   "execution_count": 1,
   "id": "e775146e-654a-4e83-b78a-9b9c07ce4ae4",
   "metadata": {},
   "outputs": [],
   "source": [
    "import pandas as pd\n",
    "import numpy as np\n",
    "import matplotlib.pyplot as plt\n",
    "import seaborn as sns\n",
    "import warnings\n",
    "warnings.filterwarnings('ignore')"
   ]
  },
  {
   "cell_type": "code",
   "execution_count": 2,
   "id": "d9406f04-f713-411d-9a31-213f96a0ba99",
   "metadata": {},
   "outputs": [],
   "source": [
    "df=pd.read_csv('https://raw.githubusercontent.com/FlipRoboTechnologies/ML_-Datasets/main/Census%20Income/Census%20Income.csv')"
   ]
  },
  {
   "cell_type": "code",
   "execution_count": 3,
   "id": "842e57fe-fd6f-4242-8b90-82df4b080ebe",
   "metadata": {},
   "outputs": [
    {
     "data": {
      "text/html": [
       "<div>\n",
       "<style scoped>\n",
       "    .dataframe tbody tr th:only-of-type {\n",
       "        vertical-align: middle;\n",
       "    }\n",
       "\n",
       "    .dataframe tbody tr th {\n",
       "        vertical-align: top;\n",
       "    }\n",
       "\n",
       "    .dataframe thead th {\n",
       "        text-align: right;\n",
       "    }\n",
       "</style>\n",
       "<table border=\"1\" class=\"dataframe\">\n",
       "  <thead>\n",
       "    <tr style=\"text-align: right;\">\n",
       "      <th></th>\n",
       "      <th>Age</th>\n",
       "      <th>Workclass</th>\n",
       "      <th>Fnlwgt</th>\n",
       "      <th>Education</th>\n",
       "      <th>Education_num</th>\n",
       "      <th>Marital_status</th>\n",
       "      <th>Occupation</th>\n",
       "      <th>Relationship</th>\n",
       "      <th>Race</th>\n",
       "      <th>Sex</th>\n",
       "      <th>Capital_gain</th>\n",
       "      <th>Capital_loss</th>\n",
       "      <th>Hours_per_week</th>\n",
       "      <th>Native_country</th>\n",
       "      <th>Income</th>\n",
       "    </tr>\n",
       "  </thead>\n",
       "  <tbody>\n",
       "    <tr>\n",
       "      <th>0</th>\n",
       "      <td>50</td>\n",
       "      <td>Self-emp-not-inc</td>\n",
       "      <td>83311</td>\n",
       "      <td>Bachelors</td>\n",
       "      <td>13</td>\n",
       "      <td>Married-civ-spouse</td>\n",
       "      <td>Exec-managerial</td>\n",
       "      <td>Husband</td>\n",
       "      <td>White</td>\n",
       "      <td>Male</td>\n",
       "      <td>0</td>\n",
       "      <td>0</td>\n",
       "      <td>13</td>\n",
       "      <td>United-States</td>\n",
       "      <td>&lt;=50K</td>\n",
       "    </tr>\n",
       "    <tr>\n",
       "      <th>1</th>\n",
       "      <td>38</td>\n",
       "      <td>Private</td>\n",
       "      <td>215646</td>\n",
       "      <td>HS-grad</td>\n",
       "      <td>9</td>\n",
       "      <td>Divorced</td>\n",
       "      <td>Handlers-cleaners</td>\n",
       "      <td>Not-in-family</td>\n",
       "      <td>White</td>\n",
       "      <td>Male</td>\n",
       "      <td>0</td>\n",
       "      <td>0</td>\n",
       "      <td>40</td>\n",
       "      <td>United-States</td>\n",
       "      <td>&lt;=50K</td>\n",
       "    </tr>\n",
       "    <tr>\n",
       "      <th>2</th>\n",
       "      <td>53</td>\n",
       "      <td>Private</td>\n",
       "      <td>234721</td>\n",
       "      <td>11th</td>\n",
       "      <td>7</td>\n",
       "      <td>Married-civ-spouse</td>\n",
       "      <td>Handlers-cleaners</td>\n",
       "      <td>Husband</td>\n",
       "      <td>Black</td>\n",
       "      <td>Male</td>\n",
       "      <td>0</td>\n",
       "      <td>0</td>\n",
       "      <td>40</td>\n",
       "      <td>United-States</td>\n",
       "      <td>&lt;=50K</td>\n",
       "    </tr>\n",
       "    <tr>\n",
       "      <th>3</th>\n",
       "      <td>28</td>\n",
       "      <td>Private</td>\n",
       "      <td>338409</td>\n",
       "      <td>Bachelors</td>\n",
       "      <td>13</td>\n",
       "      <td>Married-civ-spouse</td>\n",
       "      <td>Prof-specialty</td>\n",
       "      <td>Wife</td>\n",
       "      <td>Black</td>\n",
       "      <td>Female</td>\n",
       "      <td>0</td>\n",
       "      <td>0</td>\n",
       "      <td>40</td>\n",
       "      <td>Cuba</td>\n",
       "      <td>&lt;=50K</td>\n",
       "    </tr>\n",
       "    <tr>\n",
       "      <th>4</th>\n",
       "      <td>37</td>\n",
       "      <td>Private</td>\n",
       "      <td>284582</td>\n",
       "      <td>Masters</td>\n",
       "      <td>14</td>\n",
       "      <td>Married-civ-spouse</td>\n",
       "      <td>Exec-managerial</td>\n",
       "      <td>Wife</td>\n",
       "      <td>White</td>\n",
       "      <td>Female</td>\n",
       "      <td>0</td>\n",
       "      <td>0</td>\n",
       "      <td>40</td>\n",
       "      <td>United-States</td>\n",
       "      <td>&lt;=50K</td>\n",
       "    </tr>\n",
       "  </tbody>\n",
       "</table>\n",
       "</div>"
      ],
      "text/plain": [
       "   Age          Workclass  Fnlwgt   Education  Education_num  \\\n",
       "0   50   Self-emp-not-inc   83311   Bachelors             13   \n",
       "1   38            Private  215646     HS-grad              9   \n",
       "2   53            Private  234721        11th              7   \n",
       "3   28            Private  338409   Bachelors             13   \n",
       "4   37            Private  284582     Masters             14   \n",
       "\n",
       "        Marital_status          Occupation    Relationship    Race      Sex  \\\n",
       "0   Married-civ-spouse     Exec-managerial         Husband   White     Male   \n",
       "1             Divorced   Handlers-cleaners   Not-in-family   White     Male   \n",
       "2   Married-civ-spouse   Handlers-cleaners         Husband   Black     Male   \n",
       "3   Married-civ-spouse      Prof-specialty            Wife   Black   Female   \n",
       "4   Married-civ-spouse     Exec-managerial            Wife   White   Female   \n",
       "\n",
       "   Capital_gain  Capital_loss  Hours_per_week  Native_country  Income  \n",
       "0             0             0              13   United-States   <=50K  \n",
       "1             0             0              40   United-States   <=50K  \n",
       "2             0             0              40   United-States   <=50K  \n",
       "3             0             0              40            Cuba   <=50K  \n",
       "4             0             0              40   United-States   <=50K  "
      ]
     },
     "execution_count": 3,
     "metadata": {},
     "output_type": "execute_result"
    }
   ],
   "source": [
    "df.head()"
   ]
  },
  {
   "cell_type": "code",
   "execution_count": 4,
   "id": "eb8d26eb-f81a-457d-9166-408e4ccd87a6",
   "metadata": {},
   "outputs": [
    {
     "data": {
      "text/html": [
       "<div>\n",
       "<style scoped>\n",
       "    .dataframe tbody tr th:only-of-type {\n",
       "        vertical-align: middle;\n",
       "    }\n",
       "\n",
       "    .dataframe tbody tr th {\n",
       "        vertical-align: top;\n",
       "    }\n",
       "\n",
       "    .dataframe thead th {\n",
       "        text-align: right;\n",
       "    }\n",
       "</style>\n",
       "<table border=\"1\" class=\"dataframe\">\n",
       "  <thead>\n",
       "    <tr style=\"text-align: right;\">\n",
       "      <th></th>\n",
       "      <th>Age</th>\n",
       "      <th>Workclass</th>\n",
       "      <th>Fnlwgt</th>\n",
       "      <th>Education</th>\n",
       "      <th>Education_num</th>\n",
       "      <th>Marital_status</th>\n",
       "      <th>Occupation</th>\n",
       "      <th>Relationship</th>\n",
       "      <th>Race</th>\n",
       "      <th>Sex</th>\n",
       "      <th>Capital_gain</th>\n",
       "      <th>Capital_loss</th>\n",
       "      <th>Hours_per_week</th>\n",
       "      <th>Native_country</th>\n",
       "      <th>Income</th>\n",
       "    </tr>\n",
       "  </thead>\n",
       "  <tbody>\n",
       "    <tr>\n",
       "      <th>32555</th>\n",
       "      <td>27</td>\n",
       "      <td>Private</td>\n",
       "      <td>257302</td>\n",
       "      <td>Assoc-acdm</td>\n",
       "      <td>12</td>\n",
       "      <td>Married-civ-spouse</td>\n",
       "      <td>Tech-support</td>\n",
       "      <td>Wife</td>\n",
       "      <td>White</td>\n",
       "      <td>Female</td>\n",
       "      <td>0</td>\n",
       "      <td>0</td>\n",
       "      <td>38</td>\n",
       "      <td>United-States</td>\n",
       "      <td>&lt;=50K</td>\n",
       "    </tr>\n",
       "    <tr>\n",
       "      <th>32556</th>\n",
       "      <td>40</td>\n",
       "      <td>Private</td>\n",
       "      <td>154374</td>\n",
       "      <td>HS-grad</td>\n",
       "      <td>9</td>\n",
       "      <td>Married-civ-spouse</td>\n",
       "      <td>Machine-op-inspct</td>\n",
       "      <td>Husband</td>\n",
       "      <td>White</td>\n",
       "      <td>Male</td>\n",
       "      <td>0</td>\n",
       "      <td>0</td>\n",
       "      <td>40</td>\n",
       "      <td>United-States</td>\n",
       "      <td>&gt;50K</td>\n",
       "    </tr>\n",
       "    <tr>\n",
       "      <th>32557</th>\n",
       "      <td>58</td>\n",
       "      <td>Private</td>\n",
       "      <td>151910</td>\n",
       "      <td>HS-grad</td>\n",
       "      <td>9</td>\n",
       "      <td>Widowed</td>\n",
       "      <td>Adm-clerical</td>\n",
       "      <td>Unmarried</td>\n",
       "      <td>White</td>\n",
       "      <td>Female</td>\n",
       "      <td>0</td>\n",
       "      <td>0</td>\n",
       "      <td>40</td>\n",
       "      <td>United-States</td>\n",
       "      <td>&lt;=50K</td>\n",
       "    </tr>\n",
       "    <tr>\n",
       "      <th>32558</th>\n",
       "      <td>22</td>\n",
       "      <td>Private</td>\n",
       "      <td>201490</td>\n",
       "      <td>HS-grad</td>\n",
       "      <td>9</td>\n",
       "      <td>Never-married</td>\n",
       "      <td>Adm-clerical</td>\n",
       "      <td>Own-child</td>\n",
       "      <td>White</td>\n",
       "      <td>Male</td>\n",
       "      <td>0</td>\n",
       "      <td>0</td>\n",
       "      <td>20</td>\n",
       "      <td>United-States</td>\n",
       "      <td>&lt;=50K</td>\n",
       "    </tr>\n",
       "    <tr>\n",
       "      <th>32559</th>\n",
       "      <td>52</td>\n",
       "      <td>Self-emp-inc</td>\n",
       "      <td>287927</td>\n",
       "      <td>HS-grad</td>\n",
       "      <td>9</td>\n",
       "      <td>Married-civ-spouse</td>\n",
       "      <td>Exec-managerial</td>\n",
       "      <td>Wife</td>\n",
       "      <td>White</td>\n",
       "      <td>Female</td>\n",
       "      <td>15024</td>\n",
       "      <td>0</td>\n",
       "      <td>40</td>\n",
       "      <td>United-States</td>\n",
       "      <td>&gt;50K</td>\n",
       "    </tr>\n",
       "  </tbody>\n",
       "</table>\n",
       "</div>"
      ],
      "text/plain": [
       "       Age      Workclass  Fnlwgt    Education  Education_num  \\\n",
       "32555   27        Private  257302   Assoc-acdm             12   \n",
       "32556   40        Private  154374      HS-grad              9   \n",
       "32557   58        Private  151910      HS-grad              9   \n",
       "32558   22        Private  201490      HS-grad              9   \n",
       "32559   52   Self-emp-inc  287927      HS-grad              9   \n",
       "\n",
       "            Marital_status          Occupation Relationship    Race      Sex  \\\n",
       "32555   Married-civ-spouse        Tech-support         Wife   White   Female   \n",
       "32556   Married-civ-spouse   Machine-op-inspct      Husband   White     Male   \n",
       "32557              Widowed        Adm-clerical    Unmarried   White   Female   \n",
       "32558        Never-married        Adm-clerical    Own-child   White     Male   \n",
       "32559   Married-civ-spouse     Exec-managerial         Wife   White   Female   \n",
       "\n",
       "       Capital_gain  Capital_loss  Hours_per_week  Native_country  Income  \n",
       "32555             0             0              38   United-States   <=50K  \n",
       "32556             0             0              40   United-States    >50K  \n",
       "32557             0             0              40   United-States   <=50K  \n",
       "32558             0             0              20   United-States   <=50K  \n",
       "32559         15024             0              40   United-States    >50K  "
      ]
     },
     "execution_count": 4,
     "metadata": {},
     "output_type": "execute_result"
    }
   ],
   "source": [
    "df.tail()"
   ]
  },
  {
   "cell_type": "code",
   "execution_count": 5,
   "id": "64fd466a-a682-4034-b807-3d830aabac93",
   "metadata": {},
   "outputs": [
    {
     "data": {
      "text/plain": [
       "(32560, 15)"
      ]
     },
     "execution_count": 5,
     "metadata": {},
     "output_type": "execute_result"
    }
   ],
   "source": [
    "df.shape"
   ]
  },
  {
   "cell_type": "markdown",
   "id": "0469a076-cc65-4662-aec7-5736ddd02530",
   "metadata": {},
   "source": [
    "**The Census Income dataset comprises 32560 rows and 15 columns, including both numerical and categorical values. Of these, 14 columns represent the independent variables, while one column serves as the target variable. Given that the target variable is categorical, we will employ classification techniques for this project.**"
   ]
  },
  {
   "cell_type": "markdown",
   "id": "0d3eccd0-5875-46d7-a3f9-b637a239bf44",
   "metadata": {},
   "source": [
    "### Data Exploratory Analysis(EDA"
   ]
  },
  {
   "cell_type": "code",
   "execution_count": 6,
   "id": "26e25a8b-8be9-4b42-bf9a-d87ae7c8fa34",
   "metadata": {},
   "outputs": [
    {
     "data": {
      "text/plain": [
       "Index(['Age', 'Workclass', 'Fnlwgt', 'Education', 'Education_num',\n",
       "       'Marital_status', 'Occupation', 'Relationship', 'Race', 'Sex',\n",
       "       'Capital_gain', 'Capital_loss', 'Hours_per_week', 'Native_country',\n",
       "       'Income'],\n",
       "      dtype='object')"
      ]
     },
     "execution_count": 6,
     "metadata": {},
     "output_type": "execute_result"
    }
   ],
   "source": [
    "df.columns"
   ]
  },
  {
   "cell_type": "code",
   "execution_count": 7,
   "id": "103d197a-976c-489f-b0ad-72ef93d95fa6",
   "metadata": {},
   "outputs": [
    {
     "name": "stdout",
     "output_type": "stream",
     "text": [
      "<class 'pandas.core.frame.DataFrame'>\n",
      "RangeIndex: 32560 entries, 0 to 32559\n",
      "Data columns (total 15 columns):\n",
      " #   Column          Non-Null Count  Dtype \n",
      "---  ------          --------------  ----- \n",
      " 0   Age             32560 non-null  int64 \n",
      " 1   Workclass       32560 non-null  object\n",
      " 2   Fnlwgt          32560 non-null  int64 \n",
      " 3   Education       32560 non-null  object\n",
      " 4   Education_num   32560 non-null  int64 \n",
      " 5   Marital_status  32560 non-null  object\n",
      " 6   Occupation      32560 non-null  object\n",
      " 7   Relationship    32560 non-null  object\n",
      " 8   Race            32560 non-null  object\n",
      " 9   Sex             32560 non-null  object\n",
      " 10  Capital_gain    32560 non-null  int64 \n",
      " 11  Capital_loss    32560 non-null  int64 \n",
      " 12  Hours_per_week  32560 non-null  int64 \n",
      " 13  Native_country  32560 non-null  object\n",
      " 14  Income          32560 non-null  object\n",
      "dtypes: int64(6), object(9)\n",
      "memory usage: 3.7+ MB\n"
     ]
    }
   ],
   "source": [
    "df.info()"
   ]
  },
  {
   "cell_type": "markdown",
   "id": "a6e650ee-20e6-4644-86bf-b5964dc13b01",
   "metadata": {},
   "source": [
    "**From above infomation we can observe that**\n",
    "- The dataset's index values range from 0 to 32559, covering 32560 rows.\n",
    "- It includes columns with three distinct data types: Object, and Int.\n",
    "- Specifically, there is no missing value in columns."
   ]
  },
  {
   "cell_type": "markdown",
   "id": "01dbc559-2e37-4516-8595-b0474356877a",
   "metadata": {},
   "source": [
    "### Checking Null,Nan and other values"
   ]
  },
  {
   "cell_type": "code",
   "execution_count": 8,
   "id": "8b4aa117-581c-4da2-b322-c38c40b1be10",
   "metadata": {},
   "outputs": [
    {
     "data": {
      "text/plain": [
       "Age               0\n",
       "Workclass         0\n",
       "Fnlwgt            0\n",
       "Education         0\n",
       "Education_num     0\n",
       "Marital_status    0\n",
       "Occupation        0\n",
       "Relationship      0\n",
       "Race              0\n",
       "Sex               0\n",
       "Capital_gain      0\n",
       "Capital_loss      0\n",
       "Hours_per_week    0\n",
       "Native_country    0\n",
       "Income            0\n",
       "dtype: int64"
      ]
     },
     "execution_count": 8,
     "metadata": {},
     "output_type": "execute_result"
    }
   ],
   "source": [
    "df.isnull().sum()"
   ]
  },
  {
   "cell_type": "code",
   "execution_count": 9,
   "id": "f3aec896-6ce5-4870-9034-01dbc777afa9",
   "metadata": {},
   "outputs": [
    {
     "name": "stdout",
     "output_type": "stream",
     "text": [
      "Age [50 38 53 28 37 49 52 31 42 30 23 32 40 34 25 43 54 35 59 56 19 39 20 45\n",
      " 22 48 21 24 57 44 41 29 18 47 46 36 79 27 67 33 76 17 55 61 70 64 71 68\n",
      " 66 51 58 26 60 90 75 65 77 62 63 80 72 74 69 73 81 78 88 82 83 84 85 86\n",
      " 87] \n",
      "\n",
      "Workclass [' Self-emp-not-inc' ' Private' ' State-gov' ' Federal-gov' ' Local-gov'\n",
      " ' ?' ' Self-emp-inc' ' Without-pay' ' Never-worked'] \n",
      "\n",
      "Fnlwgt [ 83311 215646 234721 ...  34066  84661 257302] \n",
      "\n",
      "Education [' Bachelors' ' HS-grad' ' 11th' ' Masters' ' 9th' ' Some-college'\n",
      " ' Assoc-acdm' ' Assoc-voc' ' 7th-8th' ' Doctorate' ' Prof-school'\n",
      " ' 5th-6th' ' 10th' ' 1st-4th' ' Preschool' ' 12th'] \n",
      "\n",
      "Education_num [13  9  7 14  5 10 12 11  4 16 15  3  6  2  1  8] \n",
      "\n",
      "Marital_status [' Married-civ-spouse' ' Divorced' ' Married-spouse-absent'\n",
      " ' Never-married' ' Separated' ' Married-AF-spouse' ' Widowed'] \n",
      "\n",
      "Occupation [' Exec-managerial' ' Handlers-cleaners' ' Prof-specialty'\n",
      " ' Other-service' ' Adm-clerical' ' Sales' ' Craft-repair'\n",
      " ' Transport-moving' ' Farming-fishing' ' Machine-op-inspct'\n",
      " ' Tech-support' ' ?' ' Protective-serv' ' Armed-Forces'\n",
      " ' Priv-house-serv'] \n",
      "\n",
      "Relationship [' Husband' ' Not-in-family' ' Wife' ' Own-child' ' Unmarried'\n",
      " ' Other-relative'] \n",
      "\n",
      "Race [' White' ' Black' ' Asian-Pac-Islander' ' Amer-Indian-Eskimo' ' Other'] \n",
      "\n",
      "Sex [' Male' ' Female'] \n",
      "\n",
      "Capital_gain [    0 14084  5178  5013  2407 14344 15024  7688 34095  4064  4386  7298\n",
      "  1409  3674  1055  3464  2050  2176  2174   594 20051  6849  4101  1111\n",
      "  8614  3411  2597 25236  4650  9386  2463  3103 10605  2964  3325  2580\n",
      "  3471  4865 99999  6514  1471  2329  2105  2885 25124 10520  2202  2961\n",
      " 27828  6767  2228  1506 13550  2635  5556  4787  3781  3137  3818  3942\n",
      "   914   401  2829  2977  4934  2062  2354  5455 15020  1424  3273 22040\n",
      "  4416  3908 10566   991  4931  1086  7430  6497   114  7896  2346  3418\n",
      "  3432  2907  1151  2414  2290 15831 41310  4508  2538  3456  6418  1848\n",
      "  3887  5721  9562  1455  2036  1831 11678  2936  2993  7443  6360  1797\n",
      "  1173  4687  6723  2009  6097  2653  1639 18481  7978  2387  5060] \n",
      "\n",
      "Capital_loss [   0 2042 1408 1902 1573 1887 1719 1762 1564 2179 1816 1980 1977 1876\n",
      " 1340 2206 1741 1485 2339 2415 1380 1721 2051 2377 1669 2352 1672  653\n",
      " 2392 1504 2001 1590 1651 1628 1848 1740 2002 1579 2258 1602  419 2547\n",
      " 2174 2205 1726 2444 1138 2238  625  213 1539  880 1668 1092 1594 3004\n",
      " 2231 1844  810 2824 2559 2057 1974  974 2149 1825 1735 1258 2129 2603\n",
      " 2282  323 4356 2246 1617 1648 2489 3770 1755 3683 2267 2080 2457  155\n",
      " 3900 2201 1944 2467 2163 2754 2472 1411] \n",
      "\n",
      "Hours_per_week [13 40 16 45 50 80 30 35 60 20 52 44 15 25 38 43 55 48 58 32 70  2 22 56\n",
      " 41 28 36 24 46 42 12 65  1 10 34 75 98 33 54  8  6 64 19 18 72  5  9 47\n",
      " 37 21 26 14  4 59  7 99 53 39 62 57 78 90 66 11 49 84  3 17 68 27 85 31\n",
      " 51 77 63 23 87 88 73 89 97 94 29 96 67 82 86 91 81 76 92 61 74 95] \n",
      "\n",
      "Native_country [' United-States' ' Cuba' ' Jamaica' ' India' ' ?' ' Mexico' ' South'\n",
      " ' Puerto-Rico' ' Honduras' ' England' ' Canada' ' Germany' ' Iran'\n",
      " ' Philippines' ' Italy' ' Poland' ' Columbia' ' Cambodia' ' Thailand'\n",
      " ' Ecuador' ' Laos' ' Taiwan' ' Haiti' ' Portugal' ' Dominican-Republic'\n",
      " ' El-Salvador' ' France' ' Guatemala' ' China' ' Japan' ' Yugoslavia'\n",
      " ' Peru' ' Outlying-US(Guam-USVI-etc)' ' Scotland' ' Trinadad&Tobago'\n",
      " ' Greece' ' Nicaragua' ' Vietnam' ' Hong' ' Ireland' ' Hungary'\n",
      " ' Holand-Netherlands'] \n",
      "\n",
      "Income [' <=50K' ' >50K'] \n",
      "\n"
     ]
    }
   ],
   "source": [
    "for i in df.columns:\n",
    "    print(i,df[i].unique(),'\\n')"
   ]
  },
  {
   "cell_type": "markdown",
   "id": "237fd34c-7112-4f26-8aa5-e9d16b7acb8e",
   "metadata": {},
   "source": [
    "**From above we can observe that**\n",
    "- Analyze the unique values in each column\n",
    "- Detect special character (?) present in 'Occupation','Workclass' and 'Native_country' columns"
   ]
  },
  {
   "cell_type": "code",
   "execution_count": 10,
   "id": "3ea0c190-5512-4959-871d-77443290c77f",
   "metadata": {},
   "outputs": [],
   "source": [
    "df['Occupation']=df['Occupation'].replace(' ?',np.nan)"
   ]
  },
  {
   "cell_type": "code",
   "execution_count": 11,
   "id": "eba8cbc2-af32-4b4f-b394-9b815aec9ef4",
   "metadata": {},
   "outputs": [],
   "source": [
    "df['Workclass']=df['Workclass'].replace(' ?',np.nan)"
   ]
  },
  {
   "cell_type": "code",
   "execution_count": 12,
   "id": "cad2f048-cee4-4bf6-b4cc-b3101985852f",
   "metadata": {},
   "outputs": [],
   "source": [
    "df['Native_country']=df['Native_country'].replace(' ?',np.nan)"
   ]
  },
  {
   "cell_type": "markdown",
   "id": "7cfb95be-69e7-4170-a45e-ce68991ea29d",
   "metadata": {},
   "source": [
    "We replaced ' ?' character with Nan values "
   ]
  },
  {
   "cell_type": "code",
   "execution_count": 13,
   "id": "c55aaa9b-2da0-48eb-82c2-79c532e913b8",
   "metadata": {},
   "outputs": [
    {
     "data": {
      "text/plain": [
       "Age                  0\n",
       "Workclass         1836\n",
       "Fnlwgt               0\n",
       "Education            0\n",
       "Education_num        0\n",
       "Marital_status       0\n",
       "Occupation        1843\n",
       "Relationship         0\n",
       "Race                 0\n",
       "Sex                  0\n",
       "Capital_gain         0\n",
       "Capital_loss         0\n",
       "Hours_per_week       0\n",
       "Native_country     583\n",
       "Income               0\n",
       "dtype: int64"
      ]
     },
     "execution_count": 13,
     "metadata": {},
     "output_type": "execute_result"
    }
   ],
   "source": [
    "df.isnull().sum()"
   ]
  },
  {
   "cell_type": "markdown",
   "id": "0751a5a1-543c-4f1e-a84d-3ff610b7a9d9",
   "metadata": {},
   "source": [
    "#### Handling Nan Values"
   ]
  },
  {
   "cell_type": "code",
   "execution_count": 14,
   "id": "60277e03-c178-46f6-a454-bb0f968e4cbf",
   "metadata": {},
   "outputs": [],
   "source": [
    "df['Workclass'].fillna(df['Workclass'].mode()[0],inplace=True)"
   ]
  },
  {
   "cell_type": "code",
   "execution_count": 15,
   "id": "e92ad7b1-d831-4911-b7bc-81bbbfdef888",
   "metadata": {},
   "outputs": [],
   "source": [
    "df['Occupation'].fillna(df['Occupation'].mode()[0],inplace=True)"
   ]
  },
  {
   "cell_type": "code",
   "execution_count": 16,
   "id": "de7088b2-91ee-48ad-8dc0-a012f0de6804",
   "metadata": {},
   "outputs": [],
   "source": [
    "df['Native_country'].fillna(df['Native_country'].mode()[0],inplace=True)"
   ]
  },
  {
   "cell_type": "markdown",
   "id": "8073901c-4565-41d9-8241-d05255be1d8c",
   "metadata": {},
   "source": [
    "We filled Nan values with the mode "
   ]
  },
  {
   "cell_type": "markdown",
   "id": "466c342d-186f-4174-bf26-ac68678545d2",
   "metadata": {},
   "source": [
    "#### checking duplicate values"
   ]
  },
  {
   "cell_type": "code",
   "execution_count": 17,
   "id": "d932246b-b5a1-478c-ae6a-37afd76d19a8",
   "metadata": {},
   "outputs": [
    {
     "data": {
      "text/plain": [
       "24"
      ]
     },
     "execution_count": 17,
     "metadata": {},
     "output_type": "execute_result"
    }
   ],
   "source": [
    "df.duplicated().sum()"
   ]
  },
  {
   "cell_type": "markdown",
   "id": "93ad315f-a187-479c-81a7-e808b771a301",
   "metadata": {},
   "source": [
    "We found 24 is duplicate records so we will delete duplicate values"
   ]
  },
  {
   "cell_type": "code",
   "execution_count": 18,
   "id": "208b12be-abf4-4253-b1f0-3bbf41ee8f00",
   "metadata": {},
   "outputs": [],
   "source": [
    "df.drop_duplicates(inplace=True)"
   ]
  },
  {
   "cell_type": "code",
   "execution_count": 19,
   "id": "89a0f566-0a20-485f-b227-269816f4ddab",
   "metadata": {},
   "outputs": [
    {
     "data": {
      "text/plain": [
       "(32536, 15)"
      ]
     },
     "execution_count": 19,
     "metadata": {},
     "output_type": "execute_result"
    }
   ],
   "source": [
    "df.shape"
   ]
  },
  {
   "cell_type": "markdown",
   "id": "1741ccfc-e36c-48c6-84f1-307b7bfd54f7",
   "metadata": {},
   "source": [
    "after removing duplicate record the dataset contain 32536 rows and 15 columns"
   ]
  },
  {
   "cell_type": "markdown",
   "id": "31496464-fffb-4445-8f1f-91d10424b590",
   "metadata": {},
   "source": [
    "**Completed Exploratory Data Analysis (EDA), we are now proceeding to the data visualization phase**"
   ]
  },
  {
   "cell_type": "markdown",
   "id": "212c1f45-8580-4e32-9819-396027c06255",
   "metadata": {},
   "source": [
    "### Data Visualization"
   ]
  },
  {
   "cell_type": "code",
   "execution_count": 20,
   "id": "1f916acf-387e-4f9b-9dce-c8ef135d73bf",
   "metadata": {},
   "outputs": [
    {
     "data": {
      "image/png": "[encoded data removed]",
      "text/plain": [
       "<Figure size 640x480 with 1 Axes>"
      ]
     },
     "metadata": {},
     "output_type": "display_data"
    }
   ],
   "source": [
    "ax=sns.countplot(data=df,x='Income')\n",
    "for bar in ax.containers:\n",
    "    ax.bar_label(bar)"
   ]
  },
  {
   "cell_type": "markdown",
   "id": "6533d6d1-6157-4cdc-b45a-2129d0bfa96c",
   "metadata": {},
   "source": [
    "From the graph above,it is evident that the count of '<=50K' in Census Income significantly exceeds that of '>=50K'. This indicates a class imbalance issue\n"
   ]
  },
  {
   "cell_type": "code",
   "execution_count": 21,
   "id": "93ae1f76-25d8-4b65-9e5f-38f3b172f31f",
   "metadata": {},
   "outputs": [
    {
     "data": {
      "image/png": "[encoded data removed]",
      "text/plain": [
       "<Figure size 2000x800 with 1 Axes>"
      ]
     },
     "metadata": {},
     "output_type": "display_data"
    }
   ],
   "source": [
    "plt.figure(figsize=(20,8))\n",
    "ax=sns.countplot(data=df,x='Workclass')\n",
    "for bar in ax.containers:\n",
    "    ax.bar_label(bar)"
   ]
  },
  {
   "cell_type": "markdown",
   "id": "f6e28669-a936-4c6b-9a1f-8f5a7a036bec",
   "metadata": {},
   "source": [
    "1. **Dominance of Private Sector Employment**: The majority of individuals are employed in the private sector, with a count of 24,509. This indicates a significant concentration of the workforce in private companies.\n",
    "\n",
    "2. **Notable but Smaller Representation of Government Employment**: State government (1,297), federal government (960), and local government (2,093) employment have lower counts compared to the private sector, reflecting a smaller but still significant portion of individuals working in various levels of government.\n",
    "\n",
    "3. **Limited Self-Employment and Minimal Unpaid Work**: Self-employed individuals who are not incorporated (2,540) and those who are incorporated (1,116) have relatively lower counts. Additionally, there are very few individuals working without pay (14) or who have never worked (7), highlighting minimal representation in these categories."
   ]
  },
  {
   "cell_type": "code",
   "execution_count": 22,
   "id": "176ff68f-e30a-4e1c-8591-7d8e79f628e1",
   "metadata": {},
   "outputs": [
    {
     "data": {
      "image/png": "[encoded data removed]",
      "text/plain": [
       "<Figure size 2000x600 with 1 Axes>"
      ]
     },
     "metadata": {},
     "output_type": "display_data"
    }
   ],
   "source": [
    "# Count the occurrences of each Education\n",
    "counts = df['Education'].value_counts().sort_values(ascending=False)\n",
    "\n",
    "# Plotting the countplot with bars in ascending order\n",
    "plt.figure(figsize=(20, 6))\n",
    "ax = sns.countplot(data=df, x='Education', order=counts.index)\n",
    "\n",
    "# Add labels on top of the bars\n",
    "for container in ax.containers:\n",
    "    ax.bar_label(container)"
   ]
  },
  {
   "cell_type": "markdown",
   "id": "1edfb516-d05e-4651-9826-558d3afb2bbc",
   "metadata": {},
   "source": [
    "1. **High School Graduates Dominate**: The largest group by far consists of high school graduates (HS-grad) with a count of 10,494, indicating that a significant portion of the population has completed high school.\n",
    "\n",
    "2. **Significant Representation of Some College and Bachelor's Degrees**: Individuals with some college education (7,282) and those with a bachelor's degree (5,352) also form substantial portions of the dataset, highlighting the importance of higher education in the population.\n",
    "\n",
    "3. **Lower Counts for Advanced and Incomplete Education Levels**: Master's degrees (1,722) and associate degrees (Assoc-voc: 1,382, Assoc-acdm: 1,067) have lower counts, while individuals with education levels below high school (e.g., 9th grade, 10th grade) and advanced degrees like doctorates (413) have relatively small representations. This shows a significant drop-off in educational attainment at both higher and lower ends of the spectrum."
   ]
  },
  {
   "cell_type": "code",
   "execution_count": 23,
   "id": "54aecd07-48d8-47a7-90b7-b1c1ee4ab704",
   "metadata": {},
   "outputs": [
    {
     "data": {
      "text/plain": [
       "(array([ 0,  1,  2,  3,  4,  5,  6,  7,  8,  9, 10, 11, 12, 13]),\n",
       " [Text(0, 0, ' Prof-specialty'),\n",
       "  Text(1, 0, ' Craft-repair'),\n",
       "  Text(2, 0, ' Exec-managerial'),\n",
       "  Text(3, 0, ' Adm-clerical'),\n",
       "  Text(4, 0, ' Sales'),\n",
       "  Text(5, 0, ' Other-service'),\n",
       "  Text(6, 0, ' Machine-op-inspct'),\n",
       "  Text(7, 0, ' Transport-moving'),\n",
       "  Text(8, 0, ' Handlers-cleaners'),\n",
       "  Text(9, 0, ' Farming-fishing'),\n",
       "  Text(10, 0, ' Tech-support'),\n",
       "  Text(11, 0, ' Protective-serv'),\n",
       "  Text(12, 0, ' Priv-house-serv'),\n",
       "  Text(13, 0, ' Armed-Forces')])"
      ]
     },
     "execution_count": 23,
     "metadata": {},
     "output_type": "execute_result"
    },
    {
     "data": {
      "image/png": "[encoded data removed]",
      "text/plain": [
       "<Figure size 2000x600 with 1 Axes>"
      ]
     },
     "metadata": {},
     "output_type": "display_data"
    }
   ],
   "source": [
    "# Count the occurrences of each Occupation\n",
    "counts = df['Occupation'].value_counts().sort_values(ascending=False)\n",
    "\n",
    "# Plotting the countplot with bars in ascending order\n",
    "plt.figure(figsize=(20, 6))\n",
    "ax = sns.countplot(data=df, x='Occupation', order=counts.index)\n",
    "\n",
    "# Add labels on top of the bars\n",
    "for container in ax.containers:\n",
    "    ax.bar_label(container)\n",
    "plt.xticks(rotation=20)    "
   ]
  },
  {
   "cell_type": "markdown",
   "id": "cf84765f-c959-47e4-83b9-8e567af882a4",
   "metadata": {},
   "source": [
    "1. **High Representation in Professional and Managerial Roles**: Occupations like Prof-specialty, Craft-repair, and Exec-managerial have the highest counts, indicating a significant representation of specialized professionals and managerial roles in the dataset.\n",
    "\n",
    "2. **Moderate to Low Representation in Service and Manual Labor Roles**: Occupations such as Other-service, Machine-op-inspct, and Transport-moving have moderate counts, while roles like Handlers-cleaners, Farming-fishing, and Tech-support have relatively lower counts, showing less representation of manual and technical support roles.\n",
    "\n",
    "3. **Minimal Representation in Armed Forces**: The Armed Forces category has the least representation, with only 9 individuals, highlighting its minimal presence in the dataset."
   ]
  },
  {
   "cell_type": "code",
   "execution_count": 24,
   "id": "521cc976-ab20-47cc-b87c-198e8a6f1ebc",
   "metadata": {},
   "outputs": [
    {
     "data": {
      "image/png": "[encoded data removed]",
      "text/plain": [
       "<Figure size 1000x500 with 1 Axes>"
      ]
     },
     "metadata": {},
     "output_type": "display_data"
    }
   ],
   "source": [
    "plt.figure(figsize=(10,5))\n",
    "ax=sns.countplot(data=df,x='Sex')\n",
    "for bar in ax.containers:\n",
    "    ax.bar_label(bar)"
   ]
  },
  {
   "cell_type": "markdown",
   "id": "1c4d2a8c-da4a-4ee9-b8f8-8132ee6c7b9d",
   "metadata": {},
   "source": [
    "- The dataset has a higher representation of males compared to females, with nearly double the number of males.\n",
    "- This disparity might impact the analysis of income distribution and correlation with other features, as gender is a significant factor in income analysis."
   ]
  },
  {
   "cell_type": "code",
   "execution_count": 25,
   "id": "24aa5620-0dd9-41c7-83f3-d0fa1b757111",
   "metadata": {},
   "outputs": [
    {
     "data": {
      "text/plain": [
       "(array([0, 1, 2, 3, 4, 5, 6]),\n",
       " [Text(0, 0, ' Married-civ-spouse'),\n",
       "  Text(1, 0, ' Never-married'),\n",
       "  Text(2, 0, ' Divorced'),\n",
       "  Text(3, 0, ' Separated'),\n",
       "  Text(4, 0, ' Widowed'),\n",
       "  Text(5, 0, ' Married-spouse-absent'),\n",
       "  Text(6, 0, ' Married-AF-spouse')])"
      ]
     },
     "execution_count": 25,
     "metadata": {},
     "output_type": "execute_result"
    },
    {
     "data": {
      "image/png": "[encoded data removed]",
      "text/plain": [
       "<Figure size 1200x600 with 1 Axes>"
      ]
     },
     "metadata": {},
     "output_type": "display_data"
    }
   ],
   "source": [
    "# Count the occurrences of each auto_make\n",
    "counts = df['Marital_status'].value_counts().sort_values(ascending=False)\n",
    "\n",
    "# Plotting the countplot with bars in ascending order\n",
    "plt.figure(figsize=(12, 6))\n",
    "ax = sns.countplot(data=df, x='Marital_status',hue='Income',order=counts.index)\n",
    "\n",
    "# Add labels on top of the bars\n",
    "for container in ax.containers:\n",
    "    ax.bar_label(container)\n",
    "plt.xticks(rotation=20)    "
   ]
  },
  {
   "cell_type": "markdown",
   "id": "032dee93-2b9d-4068-b79b-bdbdb2205caa",
   "metadata": {},
   "source": [
    "- The majority of individuals in each marital status category earn <=50K.\n",
    "- The highest concentration of individuals earning >50K is among those who are Married-civ-spouse.\n",
    "- \"Never-married\" individuals have the highest total count but a very small proportion earn >50K.\n",
    "- Categories such as \"Separated,\" \"Widowed,\" and \"Married-spouse-absent\" have relatively low counts for both income levels compared to \"Married-civ-spouse\" and \"Never-married.\""
   ]
  },
  {
   "cell_type": "code",
   "execution_count": 26,
   "id": "01ffea86-baed-4deb-8edc-c4ef026312be",
   "metadata": {},
   "outputs": [
    {
     "data": {
      "text/plain": [
       "(array([0, 1, 2, 3, 4, 5]),\n",
       " [Text(0, 0, ' Husband'),\n",
       "  Text(1, 0, ' Not-in-family'),\n",
       "  Text(2, 0, ' Own-child'),\n",
       "  Text(3, 0, ' Unmarried'),\n",
       "  Text(4, 0, ' Wife'),\n",
       "  Text(5, 0, ' Other-relative')])"
      ]
     },
     "execution_count": 26,
     "metadata": {},
     "output_type": "execute_result"
    },
    {
     "data": {
      "image/png": "[encoded data removed]",
      "text/plain": [
       "<Figure size 1200x600 with 1 Axes>"
      ]
     },
     "metadata": {},
     "output_type": "display_data"
    }
   ],
   "source": [
    "# Count the occurrences of each auto_make\n",
    "counts = df['Relationship'].value_counts().sort_values(ascending=False)\n",
    "\n",
    "# Plotting the countplot with bars in ascending order\n",
    "plt.figure(figsize=(12, 6))\n",
    "ax = sns.countplot(data=df, x='Relationship',hue='Income',order=counts.index)\n",
    "\n",
    "# Add labels on top of the bars\n",
    "for container in ax.containers:\n",
    "    ax.bar_label(container)\n",
    "plt.xticks(rotation=20)  "
   ]
  },
  {
   "cell_type": "markdown",
   "id": "0546365f-fb4c-463f-813e-f72d6a25f58f",
   "metadata": {},
   "source": [
    "- Husbands have a relatively high proportion of individuals earning >50K compared to other categories.\n",
    "- The majority of individuals in the \"Not-in-family\" category earn <=50K, with very few earning >50K.\n",
    "- The \"Own-child\" category predominantly consists of individuals earning <=50K, with a negligible number earning >50K.\n",
    "- The \"Wife\" category shows a more balanced distribution between the two income levels compared to other categories.\n",
    "- \"Unmarried\" and \"Other-relative\" categories have relatively low counts for both income levels, with a higher proportion earning <=50K."
   ]
  },
  {
   "cell_type": "code",
   "execution_count": 27,
   "id": "83588c2f-aa63-4e24-99ba-503b4c2efde9",
   "metadata": {},
   "outputs": [
    {
     "data": {
      "text/plain": [
       "(array([0, 1, 2, 3, 4]),\n",
       " [Text(0, 0, ' White'),\n",
       "  Text(1, 0, ' Black'),\n",
       "  Text(2, 0, ' Asian-Pac-Islander'),\n",
       "  Text(3, 0, ' Amer-Indian-Eskimo'),\n",
       "  Text(4, 0, ' Other')])"
      ]
     },
     "execution_count": 27,
     "metadata": {},
     "output_type": "execute_result"
    },
    {
     "data": {
      "image/png": "[encoded data removed]",
      "text/plain": [
       "<Figure size 1200x600 with 1 Axes>"
      ]
     },
     "metadata": {},
     "output_type": "display_data"
    }
   ],
   "source": [
    "# Count the occurrences of each Race\n",
    "counts = df['Race'].value_counts().sort_values(ascending=False)\n",
    "\n",
    "# Plotting the countplot with bars in ascending order\n",
    "plt.figure(figsize=(12, 6))\n",
    "ax = sns.countplot(data=df, x='Race',hue='Income',order=counts.index)\n",
    "\n",
    "# Add labels on top of the bars\n",
    "for container in ax.containers:\n",
    "    ax.bar_label(container)\n",
    "plt.xticks(rotation=20)  "
   ]
  },
  {
   "cell_type": "markdown",
   "id": "71f052a9-1b33-4d72-b81a-3dc8e64ce9e4",
   "metadata": {},
   "source": [
    "- The \"White\" racial group has the highest counts for both income levels, with a substantial number of individuals earning >50K.\n",
    "- The \"Black\" racial group has a high count for individuals earning <=50K, but a relatively smaller number earn >50K.\n",
    "- \"Asian-Pac-Islander\" and \"Amer-Indian-Eskimo\" groups have fewer individuals overall, but the proportion of those earning >50K in the \"Asian-Pac-Islander\" group is relatively higher compared to the \"Amer-Indian-Eskimo\" group.\n",
    "- The \"Other\" category has the lowest counts for both income levels, with a very small number earning >50K."
   ]
  },
  {
   "cell_type": "markdown",
   "id": "fe850247-5a90-4323-bfa9-ad01d28528aa",
   "metadata": {},
   "source": [
    "### Checking Statistical Summary"
   ]
  },
  {
   "cell_type": "code",
   "execution_count": 28,
   "id": "fab5f46a-bfc2-4628-a57d-1a01dbfcfde1",
   "metadata": {},
   "outputs": [
    {
     "data": {
      "text/html": [
       "<div>\n",
       "<style scoped>\n",
       "    .dataframe tbody tr th:only-of-type {\n",
       "        vertical-align: middle;\n",
       "    }\n",
       "\n",
       "    .dataframe tbody tr th {\n",
       "        vertical-align: top;\n",
       "    }\n",
       "\n",
       "    .dataframe thead th {\n",
       "        text-align: right;\n",
       "    }\n",
       "</style>\n",
       "<table border=\"1\" class=\"dataframe\">\n",
       "  <thead>\n",
       "    <tr style=\"text-align: right;\">\n",
       "      <th></th>\n",
       "      <th>Age</th>\n",
       "      <th>Fnlwgt</th>\n",
       "      <th>Education_num</th>\n",
       "      <th>Capital_gain</th>\n",
       "      <th>Capital_loss</th>\n",
       "      <th>Hours_per_week</th>\n",
       "    </tr>\n",
       "  </thead>\n",
       "  <tbody>\n",
       "    <tr>\n",
       "      <th>count</th>\n",
       "      <td>32536.000000</td>\n",
       "      <td>3.253600e+04</td>\n",
       "      <td>32536.000000</td>\n",
       "      <td>32536.000000</td>\n",
       "      <td>32536.000000</td>\n",
       "      <td>32536.000000</td>\n",
       "    </tr>\n",
       "    <tr>\n",
       "      <th>mean</th>\n",
       "      <td>38.585536</td>\n",
       "      <td>1.897843e+05</td>\n",
       "      <td>10.081725</td>\n",
       "      <td>1078.410069</td>\n",
       "      <td>87.370912</td>\n",
       "      <td>40.440343</td>\n",
       "    </tr>\n",
       "    <tr>\n",
       "      <th>std</th>\n",
       "      <td>13.638193</td>\n",
       "      <td>1.055563e+05</td>\n",
       "      <td>2.571622</td>\n",
       "      <td>7388.068465</td>\n",
       "      <td>403.107737</td>\n",
       "      <td>12.347079</td>\n",
       "    </tr>\n",
       "    <tr>\n",
       "      <th>min</th>\n",
       "      <td>17.000000</td>\n",
       "      <td>1.228500e+04</td>\n",
       "      <td>1.000000</td>\n",
       "      <td>0.000000</td>\n",
       "      <td>0.000000</td>\n",
       "      <td>1.000000</td>\n",
       "    </tr>\n",
       "    <tr>\n",
       "      <th>25%</th>\n",
       "      <td>28.000000</td>\n",
       "      <td>1.178315e+05</td>\n",
       "      <td>9.000000</td>\n",
       "      <td>0.000000</td>\n",
       "      <td>0.000000</td>\n",
       "      <td>40.000000</td>\n",
       "    </tr>\n",
       "    <tr>\n",
       "      <th>50%</th>\n",
       "      <td>37.000000</td>\n",
       "      <td>1.783560e+05</td>\n",
       "      <td>10.000000</td>\n",
       "      <td>0.000000</td>\n",
       "      <td>0.000000</td>\n",
       "      <td>40.000000</td>\n",
       "    </tr>\n",
       "    <tr>\n",
       "      <th>75%</th>\n",
       "      <td>48.000000</td>\n",
       "      <td>2.369932e+05</td>\n",
       "      <td>12.000000</td>\n",
       "      <td>0.000000</td>\n",
       "      <td>0.000000</td>\n",
       "      <td>45.000000</td>\n",
       "    </tr>\n",
       "    <tr>\n",
       "      <th>max</th>\n",
       "      <td>90.000000</td>\n",
       "      <td>1.484705e+06</td>\n",
       "      <td>16.000000</td>\n",
       "      <td>99999.000000</td>\n",
       "      <td>4356.000000</td>\n",
       "      <td>99.000000</td>\n",
       "    </tr>\n",
       "  </tbody>\n",
       "</table>\n",
       "</div>"
      ],
      "text/plain": [
       "                Age        Fnlwgt  Education_num  Capital_gain  Capital_loss  \\\n",
       "count  32536.000000  3.253600e+04   32536.000000  32536.000000  32536.000000   \n",
       "mean      38.585536  1.897843e+05      10.081725   1078.410069     87.370912   \n",
       "std       13.638193  1.055563e+05       2.571622   7388.068465    403.107737   \n",
       "min       17.000000  1.228500e+04       1.000000      0.000000      0.000000   \n",
       "25%       28.000000  1.178315e+05       9.000000      0.000000      0.000000   \n",
       "50%       37.000000  1.783560e+05      10.000000      0.000000      0.000000   \n",
       "75%       48.000000  2.369932e+05      12.000000      0.000000      0.000000   \n",
       "max       90.000000  1.484705e+06      16.000000  99999.000000   4356.000000   \n",
       "\n",
       "       Hours_per_week  \n",
       "count    32536.000000  \n",
       "mean        40.440343  \n",
       "std         12.347079  \n",
       "min          1.000000  \n",
       "25%         40.000000  \n",
       "50%         40.000000  \n",
       "75%         45.000000  \n",
       "max         99.000000  "
      ]
     },
     "execution_count": 28,
     "metadata": {},
     "output_type": "execute_result"
    }
   ],
   "source": [
    "df.describe()"
   ]
  },
  {
   "cell_type": "markdown",
   "id": "aaab0dbc-3063-4ae0-9a1a-ed397c43bbce",
   "metadata": {},
   "source": [
    "Based on the above statistical summary:\n",
    "- Since the count is the same across all numerical columns, it indicates that there are no missing values in the dataset.\n",
    "- The mean is greater than the median (50th percentile) for the columns 'Capital_gain','Capital_loss'and 'Hours_per_week indicating that these distributions are right-skewed.\n",
    "- The columns Education_num\t,Capital_gain, Capital_loss and Hours_per_weekhave high stander deviation .\n",
    "- There is a significant difference between the maximum value and the 75th percentile for these columns, suggesting the presence of outliers."
   ]
  },
  {
   "cell_type": "markdown",
   "id": "95acaf9d-4b3f-42d7-b163-e5b3331fb2c1",
   "metadata": {},
   "source": [
    "### Checking Outliers"
   ]
  },
  {
   "cell_type": "code",
   "execution_count": 29,
   "id": "546a3a9f-ee7b-4da6-b3e2-c42d785a209d",
   "metadata": {},
   "outputs": [],
   "source": [
    "categorical_columns=df.loc[:,df.dtypes!='object']"
   ]
  },
  {
   "cell_type": "code",
   "execution_count": 30,
   "id": "0a67d589-7e6a-4bc9-b586-c4f2b88075ea",
   "metadata": {},
   "outputs": [
    {
     "data": {
      "image/png": "[encoded data removed]",
      "text/plain": [
       "<Figure size 2000x1000 with 6 Axes>"
      ]
     },
     "metadata": {},
     "output_type": "display_data"
    }
   ],
   "source": [
    "plt.figure(figsize=(20,10),facecolor='pink')\n",
    "count=1\n",
    "for i in categorical_columns.columns:\n",
    "    if count<=10:\n",
    "        ax=plt.subplot(2,3,count)\n",
    "        sns.boxplot(df[i],color='navy')\n",
    "        plt.xlabel(i,fontsize=20)\n",
    "    count+=1"
   ]
  },
  {
   "cell_type": "markdown",
   "id": "5eb98a88-2b56-4ed1-8f1f-84ff084f8846",
   "metadata": {},
   "source": [
    "We can observed that the outliers is present in the data set but we will remove outliers"
   ]
  },
  {
   "cell_type": "code",
   "execution_count": 31,
   "id": "4de46889-c1fe-4bbb-af35-17ad24fb2b4c",
   "metadata": {},
   "outputs": [],
   "source": [
    "# Function to remove outliers based on IQR\n",
    "def remove_outliers(df, column):\n",
    "    Q1 = df[column].quantile(0.25)\n",
    "    Q3 = df[column].quantile(0.75)\n",
    "    IQR = Q3 - Q1\n",
    "    lower_bound = Q1 - 1.5 * IQR\n",
    "    upper_bound = Q3 + 1.5 * IQR\n",
    "    return df[(df[column] >= lower_bound) & (df[column] <= upper_bound)]\n",
    "\n",
    "# List of columns to clean\n",
    "columns_to_clean = ['Age', 'Fnlwgt', 'Education_num',\n",
    "       'Hours_per_week']\n",
    "\n",
    "# Remove outliers from each column\n",
    "for column in columns_to_clean:\n",
    "    df = remove_outliers(df, column)\n",
    "df.reset_index(drop=True, inplace=True)"
   ]
  },
  {
   "cell_type": "markdown",
   "id": "6078836c-4f08-4521-92e5-07c3b5e054f7",
   "metadata": {},
   "source": [
    "### Performing Encoding"
   ]
  },
  {
   "cell_type": "code",
   "execution_count": 32,
   "id": "9ddaebd8-d442-4659-823a-520cd10fd123",
   "metadata": {},
   "outputs": [],
   "source": [
    "column_name=[col for col in df.columns if df[col].dtype=='object' ]\n",
    "unique_values=[df[col].nunique() for col in column_name]"
   ]
  },
  {
   "cell_type": "code",
   "execution_count": 33,
   "id": "8412e768-c15e-498b-8c77-389c4a95a344",
   "metadata": {},
   "outputs": [],
   "source": [
    "data_frame=pd.DataFrame({'col_name':column_name,\n",
    "                        'value':unique_values})"
   ]
  },
  {
   "cell_type": "code",
   "execution_count": 34,
   "id": "b1c41b42-6aff-448a-9974-c0abb0245d31",
   "metadata": {},
   "outputs": [
    {
     "data": {
      "text/html": [
       "<div>\n",
       "<style scoped>\n",
       "    .dataframe tbody tr th:only-of-type {\n",
       "        vertical-align: middle;\n",
       "    }\n",
       "\n",
       "    .dataframe tbody tr th {\n",
       "        vertical-align: top;\n",
       "    }\n",
       "\n",
       "    .dataframe thead th {\n",
       "        text-align: right;\n",
       "    }\n",
       "</style>\n",
       "<table border=\"1\" class=\"dataframe\">\n",
       "  <thead>\n",
       "    <tr style=\"text-align: right;\">\n",
       "      <th></th>\n",
       "      <th>col_name</th>\n",
       "      <th>value</th>\n",
       "    </tr>\n",
       "  </thead>\n",
       "  <tbody>\n",
       "    <tr>\n",
       "      <th>7</th>\n",
       "      <td>Native_country</td>\n",
       "      <td>41</td>\n",
       "    </tr>\n",
       "    <tr>\n",
       "      <th>3</th>\n",
       "      <td>Occupation</td>\n",
       "      <td>14</td>\n",
       "    </tr>\n",
       "    <tr>\n",
       "      <th>1</th>\n",
       "      <td>Education</td>\n",
       "      <td>12</td>\n",
       "    </tr>\n",
       "    <tr>\n",
       "      <th>0</th>\n",
       "      <td>Workclass</td>\n",
       "      <td>8</td>\n",
       "    </tr>\n",
       "    <tr>\n",
       "      <th>2</th>\n",
       "      <td>Marital_status</td>\n",
       "      <td>7</td>\n",
       "    </tr>\n",
       "    <tr>\n",
       "      <th>4</th>\n",
       "      <td>Relationship</td>\n",
       "      <td>6</td>\n",
       "    </tr>\n",
       "    <tr>\n",
       "      <th>5</th>\n",
       "      <td>Race</td>\n",
       "      <td>5</td>\n",
       "    </tr>\n",
       "    <tr>\n",
       "      <th>6</th>\n",
       "      <td>Sex</td>\n",
       "      <td>2</td>\n",
       "    </tr>\n",
       "    <tr>\n",
       "      <th>8</th>\n",
       "      <td>Income</td>\n",
       "      <td>2</td>\n",
       "    </tr>\n",
       "  </tbody>\n",
       "</table>\n",
       "</div>"
      ],
      "text/plain": [
       "         col_name  value\n",
       "7  Native_country     41\n",
       "3      Occupation     14\n",
       "1       Education     12\n",
       "0       Workclass      8\n",
       "2  Marital_status      7\n",
       "4    Relationship      6\n",
       "5            Race      5\n",
       "6             Sex      2\n",
       "8          Income      2"
      ]
     },
     "execution_count": 34,
     "metadata": {},
     "output_type": "execute_result"
    }
   ],
   "source": [
    "data_frame.sort_values('value', ascending=False)"
   ]
  },
  {
   "cell_type": "code",
   "execution_count": 35,
   "id": "a914a361-cfff-45c9-884f-9d4667994027",
   "metadata": {},
   "outputs": [],
   "source": [
    "#importing Encoder label Encoder\n",
    "from sklearn.preprocessing import LabelEncoder\n",
    "labelencoder=LabelEncoder()\n",
    "for column in column_name:\n",
    "    df[column]=labelencoder.fit_transform(df[column])"
   ]
  },
  {
   "cell_type": "code",
   "execution_count": 36,
   "id": "7f85056e-2e5f-4d0d-a8e0-120ae5c5afba",
   "metadata": {},
   "outputs": [
    {
     "data": {
      "text/html": [
       "<div>\n",
       "<style scoped>\n",
       "    .dataframe tbody tr th:only-of-type {\n",
       "        vertical-align: middle;\n",
       "    }\n",
       "\n",
       "    .dataframe tbody tr th {\n",
       "        vertical-align: top;\n",
       "    }\n",
       "\n",
       "    .dataframe thead th {\n",
       "        text-align: right;\n",
       "    }\n",
       "</style>\n",
       "<table border=\"1\" class=\"dataframe\">\n",
       "  <thead>\n",
       "    <tr style=\"text-align: right;\">\n",
       "      <th></th>\n",
       "      <th>Age</th>\n",
       "      <th>Workclass</th>\n",
       "      <th>Fnlwgt</th>\n",
       "      <th>Education</th>\n",
       "      <th>Education_num</th>\n",
       "      <th>Marital_status</th>\n",
       "      <th>Occupation</th>\n",
       "      <th>Relationship</th>\n",
       "      <th>Race</th>\n",
       "      <th>Sex</th>\n",
       "      <th>Capital_gain</th>\n",
       "      <th>Capital_loss</th>\n",
       "      <th>Hours_per_week</th>\n",
       "      <th>Native_country</th>\n",
       "      <th>Income</th>\n",
       "    </tr>\n",
       "  </thead>\n",
       "  <tbody>\n",
       "    <tr>\n",
       "      <th>0</th>\n",
       "      <td>38</td>\n",
       "      <td>3</td>\n",
       "      <td>215646</td>\n",
       "      <td>8</td>\n",
       "      <td>9</td>\n",
       "      <td>0</td>\n",
       "      <td>5</td>\n",
       "      <td>1</td>\n",
       "      <td>4</td>\n",
       "      <td>1</td>\n",
       "      <td>0</td>\n",
       "      <td>0</td>\n",
       "      <td>40</td>\n",
       "      <td>38</td>\n",
       "      <td>0</td>\n",
       "    </tr>\n",
       "    <tr>\n",
       "      <th>1</th>\n",
       "      <td>53</td>\n",
       "      <td>3</td>\n",
       "      <td>234721</td>\n",
       "      <td>1</td>\n",
       "      <td>7</td>\n",
       "      <td>2</td>\n",
       "      <td>5</td>\n",
       "      <td>0</td>\n",
       "      <td>2</td>\n",
       "      <td>1</td>\n",
       "      <td>0</td>\n",
       "      <td>0</td>\n",
       "      <td>40</td>\n",
       "      <td>38</td>\n",
       "      <td>0</td>\n",
       "    </tr>\n",
       "    <tr>\n",
       "      <th>2</th>\n",
       "      <td>28</td>\n",
       "      <td>3</td>\n",
       "      <td>338409</td>\n",
       "      <td>6</td>\n",
       "      <td>13</td>\n",
       "      <td>2</td>\n",
       "      <td>9</td>\n",
       "      <td>5</td>\n",
       "      <td>2</td>\n",
       "      <td>0</td>\n",
       "      <td>0</td>\n",
       "      <td>0</td>\n",
       "      <td>40</td>\n",
       "      <td>4</td>\n",
       "      <td>0</td>\n",
       "    </tr>\n",
       "    <tr>\n",
       "      <th>3</th>\n",
       "      <td>37</td>\n",
       "      <td>3</td>\n",
       "      <td>284582</td>\n",
       "      <td>9</td>\n",
       "      <td>14</td>\n",
       "      <td>2</td>\n",
       "      <td>3</td>\n",
       "      <td>5</td>\n",
       "      <td>4</td>\n",
       "      <td>0</td>\n",
       "      <td>0</td>\n",
       "      <td>0</td>\n",
       "      <td>40</td>\n",
       "      <td>38</td>\n",
       "      <td>0</td>\n",
       "    </tr>\n",
       "    <tr>\n",
       "      <th>4</th>\n",
       "      <td>52</td>\n",
       "      <td>5</td>\n",
       "      <td>209642</td>\n",
       "      <td>8</td>\n",
       "      <td>9</td>\n",
       "      <td>2</td>\n",
       "      <td>3</td>\n",
       "      <td>0</td>\n",
       "      <td>4</td>\n",
       "      <td>1</td>\n",
       "      <td>0</td>\n",
       "      <td>0</td>\n",
       "      <td>45</td>\n",
       "      <td>38</td>\n",
       "      <td>1</td>\n",
       "    </tr>\n",
       "  </tbody>\n",
       "</table>\n",
       "</div>"
      ],
      "text/plain": [
       "   Age  Workclass  Fnlwgt  Education  Education_num  Marital_status  \\\n",
       "0   38          3  215646          8              9               0   \n",
       "1   53          3  234721          1              7               2   \n",
       "2   28          3  338409          6             13               2   \n",
       "3   37          3  284582          9             14               2   \n",
       "4   52          5  209642          8              9               2   \n",
       "\n",
       "   Occupation  Relationship  Race  Sex  Capital_gain  Capital_loss  \\\n",
       "0           5             1     4    1             0             0   \n",
       "1           5             0     2    1             0             0   \n",
       "2           9             5     2    0             0             0   \n",
       "3           3             5     4    0             0             0   \n",
       "4           3             0     4    1             0             0   \n",
       "\n",
       "   Hours_per_week  Native_country  Income  \n",
       "0              40              38       0  \n",
       "1              40              38       0  \n",
       "2              40               4       0  \n",
       "3              40              38       0  \n",
       "4              45              38       1  "
      ]
     },
     "execution_count": 36,
     "metadata": {},
     "output_type": "execute_result"
    }
   ],
   "source": [
    "df.head()"
   ]
  },
  {
   "cell_type": "markdown",
   "id": "2f05a752-49b6-41e7-ba7b-f78ef17991b7",
   "metadata": {},
   "source": [
    "### Checking Skewness"
   ]
  },
  {
   "cell_type": "code",
   "execution_count": 37,
   "id": "049387e4-093d-414f-8c07-b661253a2adc",
   "metadata": {},
   "outputs": [
    {
     "data": {
      "text/plain": [
       "Age                0.407833\n",
       "Workclass          0.027183\n",
       "Fnlwgt             0.416170\n",
       "Education         -0.778799\n",
       "Education_num      0.249263\n",
       "Marital_status     0.025464\n",
       "Occupation         0.108440\n",
       "Relationship       0.895983\n",
       "Race              -2.387259\n",
       "Sex               -0.786460\n",
       "Capital_gain      12.662369\n",
       "Capital_loss       4.455347\n",
       "Hours_per_week     1.012744\n",
       "Native_country    -4.608432\n",
       "Income             1.072776\n",
       "dtype: float64"
      ]
     },
     "execution_count": 37,
     "metadata": {},
     "output_type": "execute_result"
    }
   ],
   "source": [
    "df.skew()"
   ]
  },
  {
   "cell_type": "code",
   "execution_count": 38,
   "id": "6a4c73fc-ed21-4b1e-9935-dbd80c012e02",
   "metadata": {},
   "outputs": [],
   "source": [
    "#removing skewness by using cuberoot method\n",
    "df['Hours_per_week']=np.cbrt(df['Hours_per_week'])"
   ]
  },
  {
   "cell_type": "markdown",
   "id": "16739946-d1cb-4d49-ac62-d1d87d2c3cb9",
   "metadata": {},
   "source": [
    "we removed skewness from numerical columns"
   ]
  },
  {
   "cell_type": "code",
   "execution_count": 39,
   "id": "d4ccba77-4f7d-4748-a3b0-585fc7622ce3",
   "metadata": {},
   "outputs": [
    {
     "data": {
      "text/plain": [
       "Age                0.407833\n",
       "Workclass          0.027183\n",
       "Fnlwgt             0.416170\n",
       "Education         -0.778799\n",
       "Education_num      0.249263\n",
       "Marital_status     0.025464\n",
       "Occupation         0.108440\n",
       "Relationship       0.895983\n",
       "Race              -2.387259\n",
       "Sex               -0.786460\n",
       "Capital_gain      12.662369\n",
       "Capital_loss       4.455347\n",
       "Hours_per_week     0.883954\n",
       "Native_country    -4.608432\n",
       "Income             1.072776\n",
       "dtype: float64"
      ]
     },
     "execution_count": 39,
     "metadata": {},
     "output_type": "execute_result"
    }
   ],
   "source": [
    "df.skew()"
   ]
  },
  {
   "cell_type": "markdown",
   "id": "bc8aa1fc-fd0f-4a5a-8a10-e790306463a5",
   "metadata": {},
   "source": [
    "### Checking correlation between target variable and independent variables"
   ]
  },
  {
   "cell_type": "code",
   "execution_count": 40,
   "id": "d56b5b88-abe2-4843-98b1-03ed3aceeb56",
   "metadata": {},
   "outputs": [
    {
     "data": {
      "text/html": [
       "<div>\n",
       "<style scoped>\n",
       "    .dataframe tbody tr th:only-of-type {\n",
       "        vertical-align: middle;\n",
       "    }\n",
       "\n",
       "    .dataframe tbody tr th {\n",
       "        vertical-align: top;\n",
       "    }\n",
       "\n",
       "    .dataframe thead th {\n",
       "        text-align: right;\n",
       "    }\n",
       "</style>\n",
       "<table border=\"1\" class=\"dataframe\">\n",
       "  <thead>\n",
       "    <tr style=\"text-align: right;\">\n",
       "      <th></th>\n",
       "      <th>Age</th>\n",
       "      <th>Workclass</th>\n",
       "      <th>Fnlwgt</th>\n",
       "      <th>Education</th>\n",
       "      <th>Education_num</th>\n",
       "      <th>Marital_status</th>\n",
       "      <th>Occupation</th>\n",
       "      <th>Relationship</th>\n",
       "      <th>Race</th>\n",
       "      <th>Sex</th>\n",
       "      <th>Capital_gain</th>\n",
       "      <th>Capital_loss</th>\n",
       "      <th>Hours_per_week</th>\n",
       "      <th>Native_country</th>\n",
       "      <th>Income</th>\n",
       "    </tr>\n",
       "  </thead>\n",
       "  <tbody>\n",
       "    <tr>\n",
       "      <th>Age</th>\n",
       "      <td>1.000000</td>\n",
       "      <td>0.018709</td>\n",
       "      <td>-0.064995</td>\n",
       "      <td>-0.006792</td>\n",
       "      <td>0.072918</td>\n",
       "      <td>-0.282246</td>\n",
       "      <td>-0.002478</td>\n",
       "      <td>-0.219569</td>\n",
       "      <td>0.027177</td>\n",
       "      <td>0.072182</td>\n",
       "      <td>0.087463</td>\n",
       "      <td>0.059755</td>\n",
       "      <td>0.053559</td>\n",
       "      <td>0.002605</td>\n",
       "      <td>0.266015</td>\n",
       "    </tr>\n",
       "    <tr>\n",
       "      <th>Workclass</th>\n",
       "      <td>0.018709</td>\n",
       "      <td>1.000000</td>\n",
       "      <td>-0.018382</td>\n",
       "      <td>-0.001375</td>\n",
       "      <td>-0.001159</td>\n",
       "      <td>-0.010414</td>\n",
       "      <td>0.011698</td>\n",
       "      <td>-0.043610</td>\n",
       "      <td>0.048141</td>\n",
       "      <td>0.057601</td>\n",
       "      <td>0.030816</td>\n",
       "      <td>-0.000589</td>\n",
       "      <td>0.057806</td>\n",
       "      <td>-0.002988</td>\n",
       "      <td>-0.008430</td>\n",
       "    </tr>\n",
       "    <tr>\n",
       "      <th>Fnlwgt</th>\n",
       "      <td>-0.064995</td>\n",
       "      <td>-0.018382</td>\n",
       "      <td>1.000000</td>\n",
       "      <td>-0.012333</td>\n",
       "      <td>-0.021993</td>\n",
       "      <td>0.029967</td>\n",
       "      <td>0.005759</td>\n",
       "      <td>0.002728</td>\n",
       "      <td>-0.007812</td>\n",
       "      <td>0.019514</td>\n",
       "      <td>-0.001293</td>\n",
       "      <td>-0.001676</td>\n",
       "      <td>-0.009851</td>\n",
       "      <td>-0.050273</td>\n",
       "      <td>0.001864</td>\n",
       "    </tr>\n",
       "    <tr>\n",
       "      <th>Education</th>\n",
       "      <td>-0.006792</td>\n",
       "      <td>-0.001375</td>\n",
       "      <td>-0.012333</td>\n",
       "      <td>1.000000</td>\n",
       "      <td>0.167102</td>\n",
       "      <td>-0.019487</td>\n",
       "      <td>-0.042588</td>\n",
       "      <td>0.009607</td>\n",
       "      <td>0.014753</td>\n",
       "      <td>-0.027967</td>\n",
       "      <td>0.016378</td>\n",
       "      <td>0.010714</td>\n",
       "      <td>0.018359</td>\n",
       "      <td>0.042661</td>\n",
       "      <td>0.032474</td>\n",
       "    </tr>\n",
       "    <tr>\n",
       "      <th>Education_num</th>\n",
       "      <td>0.072918</td>\n",
       "      <td>-0.001159</td>\n",
       "      <td>-0.021993</td>\n",
       "      <td>0.167102</td>\n",
       "      <td>1.000000</td>\n",
       "      <td>-0.028278</td>\n",
       "      <td>0.114320</td>\n",
       "      <td>-0.091881</td>\n",
       "      <td>0.030884</td>\n",
       "      <td>0.005476</td>\n",
       "      <td>0.110139</td>\n",
       "      <td>0.081851</td>\n",
       "      <td>0.145505</td>\n",
       "      <td>-0.007891</td>\n",
       "      <td>0.329065</td>\n",
       "    </tr>\n",
       "    <tr>\n",
       "      <th>Marital_status</th>\n",
       "      <td>-0.282246</td>\n",
       "      <td>-0.010414</td>\n",
       "      <td>0.029967</td>\n",
       "      <td>-0.019487</td>\n",
       "      <td>-0.028278</td>\n",
       "      <td>1.000000</td>\n",
       "      <td>0.031305</td>\n",
       "      <td>0.147821</td>\n",
       "      <td>-0.077682</td>\n",
       "      <td>-0.084334</td>\n",
       "      <td>-0.034690</td>\n",
       "      <td>-0.026137</td>\n",
       "      <td>-0.088146</td>\n",
       "      <td>-0.019925</td>\n",
       "      <td>-0.172794</td>\n",
       "    </tr>\n",
       "    <tr>\n",
       "      <th>Occupation</th>\n",
       "      <td>-0.002478</td>\n",
       "      <td>0.011698</td>\n",
       "      <td>0.005759</td>\n",
       "      <td>-0.042588</td>\n",
       "      <td>0.114320</td>\n",
       "      <td>0.031305</td>\n",
       "      <td>1.000000</td>\n",
       "      <td>-0.059227</td>\n",
       "      <td>-0.002863</td>\n",
       "      <td>0.073661</td>\n",
       "      <td>0.016267</td>\n",
       "      <td>0.016134</td>\n",
       "      <td>0.053201</td>\n",
       "      <td>-0.005113</td>\n",
       "      <td>0.054226</td>\n",
       "    </tr>\n",
       "    <tr>\n",
       "      <th>Relationship</th>\n",
       "      <td>-0.219569</td>\n",
       "      <td>-0.043610</td>\n",
       "      <td>0.002728</td>\n",
       "      <td>0.009607</td>\n",
       "      <td>-0.091881</td>\n",
       "      <td>0.147821</td>\n",
       "      <td>-0.059227</td>\n",
       "      <td>1.000000</td>\n",
       "      <td>-0.129351</td>\n",
       "      <td>-0.590027</td>\n",
       "      <td>-0.046981</td>\n",
       "      <td>-0.061982</td>\n",
       "      <td>-0.186199</td>\n",
       "      <td>-0.014527</td>\n",
       "      <td>-0.243856</td>\n",
       "    </tr>\n",
       "    <tr>\n",
       "      <th>Race</th>\n",
       "      <td>0.027177</td>\n",
       "      <td>0.048141</td>\n",
       "      <td>-0.007812</td>\n",
       "      <td>0.014753</td>\n",
       "      <td>0.030884</td>\n",
       "      <td>-0.077682</td>\n",
       "      <td>-0.002863</td>\n",
       "      <td>-0.129351</td>\n",
       "      <td>1.000000</td>\n",
       "      <td>0.102476</td>\n",
       "      <td>0.010985</td>\n",
       "      <td>0.022602</td>\n",
       "      <td>0.094844</td>\n",
       "      <td>0.136951</td>\n",
       "      <td>0.076552</td>\n",
       "    </tr>\n",
       "    <tr>\n",
       "      <th>Sex</th>\n",
       "      <td>0.072182</td>\n",
       "      <td>0.057601</td>\n",
       "      <td>0.019514</td>\n",
       "      <td>-0.027967</td>\n",
       "      <td>0.005476</td>\n",
       "      <td>-0.084334</td>\n",
       "      <td>0.073661</td>\n",
       "      <td>-0.590027</td>\n",
       "      <td>0.102476</td>\n",
       "      <td>1.000000</td>\n",
       "      <td>0.039190</td>\n",
       "      <td>0.049247</td>\n",
       "      <td>0.187149</td>\n",
       "      <td>0.009433</td>\n",
       "      <td>0.215674</td>\n",
       "    </tr>\n",
       "    <tr>\n",
       "      <th>Capital_gain</th>\n",
       "      <td>0.087463</td>\n",
       "      <td>0.030816</td>\n",
       "      <td>-0.001293</td>\n",
       "      <td>0.016378</td>\n",
       "      <td>0.110139</td>\n",
       "      <td>-0.034690</td>\n",
       "      <td>0.016267</td>\n",
       "      <td>-0.046981</td>\n",
       "      <td>0.010985</td>\n",
       "      <td>0.039190</td>\n",
       "      <td>1.000000</td>\n",
       "      <td>-0.033074</td>\n",
       "      <td>0.057617</td>\n",
       "      <td>0.009193</td>\n",
       "      <td>0.213273</td>\n",
       "    </tr>\n",
       "    <tr>\n",
       "      <th>Capital_loss</th>\n",
       "      <td>0.059755</td>\n",
       "      <td>-0.000589</td>\n",
       "      <td>-0.001676</td>\n",
       "      <td>0.010714</td>\n",
       "      <td>0.081851</td>\n",
       "      <td>-0.026137</td>\n",
       "      <td>0.016134</td>\n",
       "      <td>-0.061982</td>\n",
       "      <td>0.022602</td>\n",
       "      <td>0.049247</td>\n",
       "      <td>-0.033074</td>\n",
       "      <td>1.000000</td>\n",
       "      <td>0.038769</td>\n",
       "      <td>0.010377</td>\n",
       "      <td>0.143862</td>\n",
       "    </tr>\n",
       "    <tr>\n",
       "      <th>Hours_per_week</th>\n",
       "      <td>0.053559</td>\n",
       "      <td>0.057806</td>\n",
       "      <td>-0.009851</td>\n",
       "      <td>0.018359</td>\n",
       "      <td>0.145505</td>\n",
       "      <td>-0.088146</td>\n",
       "      <td>0.053201</td>\n",
       "      <td>-0.186199</td>\n",
       "      <td>0.094844</td>\n",
       "      <td>0.187149</td>\n",
       "      <td>0.057617</td>\n",
       "      <td>0.038769</td>\n",
       "      <td>1.000000</td>\n",
       "      <td>0.018158</td>\n",
       "      <td>0.193095</td>\n",
       "    </tr>\n",
       "    <tr>\n",
       "      <th>Native_country</th>\n",
       "      <td>0.002605</td>\n",
       "      <td>-0.002988</td>\n",
       "      <td>-0.050273</td>\n",
       "      <td>0.042661</td>\n",
       "      <td>-0.007891</td>\n",
       "      <td>-0.019925</td>\n",
       "      <td>-0.005113</td>\n",
       "      <td>-0.014527</td>\n",
       "      <td>0.136951</td>\n",
       "      <td>0.009433</td>\n",
       "      <td>0.009193</td>\n",
       "      <td>0.010377</td>\n",
       "      <td>0.018158</td>\n",
       "      <td>1.000000</td>\n",
       "      <td>0.011183</td>\n",
       "    </tr>\n",
       "    <tr>\n",
       "      <th>Income</th>\n",
       "      <td>0.266015</td>\n",
       "      <td>-0.008430</td>\n",
       "      <td>0.001864</td>\n",
       "      <td>0.032474</td>\n",
       "      <td>0.329065</td>\n",
       "      <td>-0.172794</td>\n",
       "      <td>0.054226</td>\n",
       "      <td>-0.243856</td>\n",
       "      <td>0.076552</td>\n",
       "      <td>0.215674</td>\n",
       "      <td>0.213273</td>\n",
       "      <td>0.143862</td>\n",
       "      <td>0.193095</td>\n",
       "      <td>0.011183</td>\n",
       "      <td>1.000000</td>\n",
       "    </tr>\n",
       "  </tbody>\n",
       "</table>\n",
       "</div>"
      ],
      "text/plain": [
       "                     Age  Workclass    Fnlwgt  Education  Education_num  \\\n",
       "Age             1.000000   0.018709 -0.064995  -0.006792       0.072918   \n",
       "Workclass       0.018709   1.000000 -0.018382  -0.001375      -0.001159   \n",
       "Fnlwgt         -0.064995  -0.018382  1.000000  -0.012333      -0.021993   \n",
       "Education      -0.006792  -0.001375 -0.012333   1.000000       0.167102   \n",
       "Education_num   0.072918  -0.001159 -0.021993   0.167102       1.000000   \n",
       "Marital_status -0.282246  -0.010414  0.029967  -0.019487      -0.028278   \n",
       "Occupation     -0.002478   0.011698  0.005759  -0.042588       0.114320   \n",
       "Relationship   -0.219569  -0.043610  0.002728   0.009607      -0.091881   \n",
       "Race            0.027177   0.048141 -0.007812   0.014753       0.030884   \n",
       "Sex             0.072182   0.057601  0.019514  -0.027967       0.005476   \n",
       "Capital_gain    0.087463   0.030816 -0.001293   0.016378       0.110139   \n",
       "Capital_loss    0.059755  -0.000589 -0.001676   0.010714       0.081851   \n",
       "Hours_per_week  0.053559   0.057806 -0.009851   0.018359       0.145505   \n",
       "Native_country  0.002605  -0.002988 -0.050273   0.042661      -0.007891   \n",
       "Income          0.266015  -0.008430  0.001864   0.032474       0.329065   \n",
       "\n",
       "                Marital_status  Occupation  Relationship      Race       Sex  \\\n",
       "Age                  -0.282246   -0.002478     -0.219569  0.027177  0.072182   \n",
       "Workclass            -0.010414    0.011698     -0.043610  0.048141  0.057601   \n",
       "Fnlwgt                0.029967    0.005759      0.002728 -0.007812  0.019514   \n",
       "Education            -0.019487   -0.042588      0.009607  0.014753 -0.027967   \n",
       "Education_num        -0.028278    0.114320     -0.091881  0.030884  0.005476   \n",
       "Marital_status        1.000000    0.031305      0.147821 -0.077682 -0.084334   \n",
       "Occupation            0.031305    1.000000     -0.059227 -0.002863  0.073661   \n",
       "Relationship          0.147821   -0.059227      1.000000 -0.129351 -0.590027   \n",
       "Race                 -0.077682   -0.002863     -0.129351  1.000000  0.102476   \n",
       "Sex                  -0.084334    0.073661     -0.590027  0.102476  1.000000   \n",
       "Capital_gain         -0.034690    0.016267     -0.046981  0.010985  0.039190   \n",
       "Capital_loss         -0.026137    0.016134     -0.061982  0.022602  0.049247   \n",
       "Hours_per_week       -0.088146    0.053201     -0.186199  0.094844  0.187149   \n",
       "Native_country       -0.019925   -0.005113     -0.014527  0.136951  0.009433   \n",
       "Income               -0.172794    0.054226     -0.243856  0.076552  0.215674   \n",
       "\n",
       "                Capital_gain  Capital_loss  Hours_per_week  Native_country  \\\n",
       "Age                 0.087463      0.059755        0.053559        0.002605   \n",
       "Workclass           0.030816     -0.000589        0.057806       -0.002988   \n",
       "Fnlwgt             -0.001293     -0.001676       -0.009851       -0.050273   \n",
       "Education           0.016378      0.010714        0.018359        0.042661   \n",
       "Education_num       0.110139      0.081851        0.145505       -0.007891   \n",
       "Marital_status     -0.034690     -0.026137       -0.088146       -0.019925   \n",
       "Occupation          0.016267      0.016134        0.053201       -0.005113   \n",
       "Relationship       -0.046981     -0.061982       -0.186199       -0.014527   \n",
       "Race                0.010985      0.022602        0.094844        0.136951   \n",
       "Sex                 0.039190      0.049247        0.187149        0.009433   \n",
       "Capital_gain        1.000000     -0.033074        0.057617        0.009193   \n",
       "Capital_loss       -0.033074      1.000000        0.038769        0.010377   \n",
       "Hours_per_week      0.057617      0.038769        1.000000        0.018158   \n",
       "Native_country      0.009193      0.010377        0.018158        1.000000   \n",
       "Income              0.213273      0.143862        0.193095        0.011183   \n",
       "\n",
       "                  Income  \n",
       "Age             0.266015  \n",
       "Workclass      -0.008430  \n",
       "Fnlwgt          0.001864  \n",
       "Education       0.032474  \n",
       "Education_num   0.329065  \n",
       "Marital_status -0.172794  \n",
       "Occupation      0.054226  \n",
       "Relationship   -0.243856  \n",
       "Race            0.076552  \n",
       "Sex             0.215674  \n",
       "Capital_gain    0.213273  \n",
       "Capital_loss    0.143862  \n",
       "Hours_per_week  0.193095  \n",
       "Native_country  0.011183  \n",
       "Income          1.000000  "
      ]
     },
     "execution_count": 40,
     "metadata": {},
     "output_type": "execute_result"
    }
   ],
   "source": [
    "corr_matrix=df.corr()\n",
    "corr_matrix"
   ]
  },
  {
   "cell_type": "code",
   "execution_count": 41,
   "id": "18919cf0-3c1c-449d-aff6-695484d93ded",
   "metadata": {},
   "outputs": [
    {
     "data": {
      "image/png": "[encoded data removed]",
      "text/plain": [
       "<Figure size 2000x800 with 1 Axes>"
      ]
     },
     "metadata": {},
     "output_type": "display_data"
    }
   ],
   "source": [
    "# Plot correlation with target variable\n",
    "plt.figure(figsize=(20, 8))\n",
    "sns.barplot(x=corr_matrix['Income'].drop('Income').index, y=corr_matrix['Income'].drop('Income').values)\n",
    "plt.title(\"Feature Correlation with Income\")\n",
    "plt.xlabel(\"Features\")\n",
    "plt.ylabel(\"Correlation\")\n",
    "plt.xticks(rotation=90)\n",
    "plt.grid(True)\n",
    "plt.show()"
   ]
  },
  {
   "cell_type": "markdown",
   "id": "10e16592-a487-40eb-9bed-60d1063dd10c",
   "metadata": {},
   "source": [
    "1. **Positive Correlations**:\n",
    "   - **Age**: There is a moderately positive correlation with income (~0.23). This suggests that as age increases, income tends to increase as well.\n",
    "   - **Education_num**: This feature has the highest positive correlation with income (~0.33), indicating that higher levels of education are strongly associated with higher income.\n",
    "   - **Occupation**: There is a positive correlation with income (~0.15). Different occupations have varying impacts on income.\n",
    "   - **Race**: There is a slight positive correlation (~0.08).\n",
    "   - **Sex**: There is a positive correlation with income (~0.22), suggesting that one gender (likely male) tends to have higher income.\n",
    "   - **Capital_gain**: This feature has a significant positive correlation with income (~0.22), indicating that higher capital gains are associated with higher income.\n",
    "   - **Capital_loss**: There is a moderately positive correlation with income (~0.15), suggesting that higher capital losses might be associated with higher income.\n",
    "   - **Hours_per_week**: There is a positive correlation with income (~0.23), indicating that working more hours per week is associated with higher income.\n",
    "\n",
    "2. **Negative Correlations**:\n",
    "   - **Marital_status**: There is a strong negative correlation with income (~-0.2). This suggests that certain marital statuses are associated with lower income.\n",
    "   - **Relationship**: This feature has the strongest negative correlation with income (~-0.25). Certain relationship statuses (like being unmarried) are strongly associated with lower income.\n",
    "   - **Native_country**: There is a slight negative correlation (~-0.02), indicating that the country of origin has a minor impact on income.\n",
    "\n",
    "3. **Near Zero Correlations**:\n",
    "   - **Workclass** and **Fnlwgt** have correlations close to zero, indicating little to no linear relationship with income."
   ]
  },
  {
   "cell_type": "markdown",
   "id": "80fee786-f088-48e8-b92c-0205b5911d06",
   "metadata": {},
   "source": [
    "### Splitting the data into training and test"
   ]
  },
  {
   "cell_type": "code",
   "execution_count": 42,
   "id": "94ebd134-0522-4c5b-9af4-3a6d0ca3f3a4",
   "metadata": {},
   "outputs": [
    {
     "name": "stdout",
     "output_type": "stream",
     "text": [
      "Dimension of independent (21944, 14)\n",
      "Dimension of Target (21944,)\n"
     ]
    }
   ],
   "source": [
    "#seperating independent variable and target into x and y\n",
    "x=df.drop('Income',axis=1)\n",
    "y=df['Income']\n",
    "print('Dimension of independent',x.shape)\n",
    "print('Dimension of Target',y.shape)"
   ]
  },
  {
   "cell_type": "markdown",
   "id": "c58c5b00-0fc9-446d-aa37-7e8c54d0b9ee",
   "metadata": {},
   "source": [
    "### Feature Scaling using Standard Scalarization"
   ]
  },
  {
   "cell_type": "code",
   "execution_count": 43,
   "id": "e0d4d6b6-5f59-4679-97fe-fa1dc4f17091",
   "metadata": {},
   "outputs": [
    {
     "data": {
      "text/html": [
       "<div>\n",
       "<style scoped>\n",
       "    .dataframe tbody tr th:only-of-type {\n",
       "        vertical-align: middle;\n",
       "    }\n",
       "\n",
       "    .dataframe tbody tr th {\n",
       "        vertical-align: top;\n",
       "    }\n",
       "\n",
       "    .dataframe thead th {\n",
       "        text-align: right;\n",
       "    }\n",
       "</style>\n",
       "<table border=\"1\" class=\"dataframe\">\n",
       "  <thead>\n",
       "    <tr style=\"text-align: right;\">\n",
       "      <th></th>\n",
       "      <th>Age</th>\n",
       "      <th>Workclass</th>\n",
       "      <th>Fnlwgt</th>\n",
       "      <th>Education</th>\n",
       "      <th>Education_num</th>\n",
       "      <th>Marital_status</th>\n",
       "      <th>Occupation</th>\n",
       "      <th>Relationship</th>\n",
       "      <th>Race</th>\n",
       "      <th>Sex</th>\n",
       "      <th>Capital_gain</th>\n",
       "      <th>Capital_loss</th>\n",
       "      <th>Hours_per_week</th>\n",
       "      <th>Native_country</th>\n",
       "    </tr>\n",
       "  </thead>\n",
       "  <tbody>\n",
       "    <tr>\n",
       "      <th>0</th>\n",
       "      <td>-0.053693</td>\n",
       "      <td>-0.026933</td>\n",
       "      <td>0.403107</td>\n",
       "      <td>0.174366</td>\n",
       "      <td>-0.621537</td>\n",
       "      <td>-1.675676</td>\n",
       "      <td>-0.214088</td>\n",
       "      <td>-0.233779</td>\n",
       "      <td>0.399544</td>\n",
       "      <td>0.681324</td>\n",
       "      <td>-0.149235</td>\n",
       "      <td>-0.221626</td>\n",
       "      <td>-0.381593</td>\n",
       "      <td>0.239707</td>\n",
       "    </tr>\n",
       "    <tr>\n",
       "      <th>1</th>\n",
       "      <td>1.188382</td>\n",
       "      <td>-0.026933</td>\n",
       "      <td>0.622681</td>\n",
       "      <td>-2.377709</td>\n",
       "      <td>-1.529744</td>\n",
       "      <td>-0.336551</td>\n",
       "      <td>-0.214088</td>\n",
       "      <td>-0.856585</td>\n",
       "      <td>-1.927004</td>\n",
       "      <td>0.681324</td>\n",
       "      <td>-0.149235</td>\n",
       "      <td>-0.221626</td>\n",
       "      <td>-0.381593</td>\n",
       "      <td>0.239707</td>\n",
       "    </tr>\n",
       "    <tr>\n",
       "      <th>2</th>\n",
       "      <td>-0.881743</td>\n",
       "      <td>-0.026933</td>\n",
       "      <td>1.816246</td>\n",
       "      <td>-0.554798</td>\n",
       "      <td>1.194878</td>\n",
       "      <td>-0.336551</td>\n",
       "      <td>0.774849</td>\n",
       "      <td>2.257445</td>\n",
       "      <td>-1.927004</td>\n",
       "      <td>-1.467731</td>\n",
       "      <td>-0.149235</td>\n",
       "      <td>-0.221626</td>\n",
       "      <td>-0.381593</td>\n",
       "      <td>-5.659821</td>\n",
       "    </tr>\n",
       "    <tr>\n",
       "      <th>3</th>\n",
       "      <td>-0.136498</td>\n",
       "      <td>-0.026933</td>\n",
       "      <td>1.196637</td>\n",
       "      <td>0.538948</td>\n",
       "      <td>1.648981</td>\n",
       "      <td>-0.336551</td>\n",
       "      <td>-0.708556</td>\n",
       "      <td>2.257445</td>\n",
       "      <td>0.399544</td>\n",
       "      <td>-1.467731</td>\n",
       "      <td>-0.149235</td>\n",
       "      <td>-0.221626</td>\n",
       "      <td>-0.381593</td>\n",
       "      <td>0.239707</td>\n",
       "    </tr>\n",
       "    <tr>\n",
       "      <th>4</th>\n",
       "      <td>1.105577</td>\n",
       "      <td>1.742557</td>\n",
       "      <td>0.333994</td>\n",
       "      <td>0.174366</td>\n",
       "      <td>-0.621537</td>\n",
       "      <td>-0.336551</td>\n",
       "      <td>-0.708556</td>\n",
       "      <td>-0.856585</td>\n",
       "      <td>0.399544</td>\n",
       "      <td>0.681324</td>\n",
       "      <td>-0.149235</td>\n",
       "      <td>-0.221626</td>\n",
       "      <td>0.875365</td>\n",
       "      <td>0.239707</td>\n",
       "    </tr>\n",
       "    <tr>\n",
       "      <th>...</th>\n",
       "      <td>...</td>\n",
       "      <td>...</td>\n",
       "      <td>...</td>\n",
       "      <td>...</td>\n",
       "      <td>...</td>\n",
       "      <td>...</td>\n",
       "      <td>...</td>\n",
       "      <td>...</td>\n",
       "      <td>...</td>\n",
       "      <td>...</td>\n",
       "      <td>...</td>\n",
       "      <td>...</td>\n",
       "      <td>...</td>\n",
       "      <td>...</td>\n",
       "    </tr>\n",
       "    <tr>\n",
       "      <th>21939</th>\n",
       "      <td>-1.378573</td>\n",
       "      <td>-0.026933</td>\n",
       "      <td>1.490977</td>\n",
       "      <td>1.268112</td>\n",
       "      <td>-0.167433</td>\n",
       "      <td>1.002574</td>\n",
       "      <td>1.022083</td>\n",
       "      <td>-0.233779</td>\n",
       "      <td>0.399544</td>\n",
       "      <td>0.681324</td>\n",
       "      <td>-0.149235</td>\n",
       "      <td>-0.221626</td>\n",
       "      <td>-0.381593</td>\n",
       "      <td>0.239707</td>\n",
       "    </tr>\n",
       "    <tr>\n",
       "      <th>21940</th>\n",
       "      <td>-0.964548</td>\n",
       "      <td>-0.026933</td>\n",
       "      <td>0.882614</td>\n",
       "      <td>-1.283962</td>\n",
       "      <td>0.740774</td>\n",
       "      <td>-0.336551</td>\n",
       "      <td>1.516551</td>\n",
       "      <td>2.257445</td>\n",
       "      <td>0.399544</td>\n",
       "      <td>-1.467731</td>\n",
       "      <td>-0.149235</td>\n",
       "      <td>-0.221626</td>\n",
       "      <td>-0.913748</td>\n",
       "      <td>0.239707</td>\n",
       "    </tr>\n",
       "    <tr>\n",
       "      <th>21941</th>\n",
       "      <td>0.111917</td>\n",
       "      <td>-0.026933</td>\n",
       "      <td>-0.302202</td>\n",
       "      <td>0.174366</td>\n",
       "      <td>-0.621537</td>\n",
       "      <td>-0.336551</td>\n",
       "      <td>0.033146</td>\n",
       "      <td>-0.856585</td>\n",
       "      <td>0.399544</td>\n",
       "      <td>0.681324</td>\n",
       "      <td>-0.149235</td>\n",
       "      <td>-0.221626</td>\n",
       "      <td>-0.381593</td>\n",
       "      <td>0.239707</td>\n",
       "    </tr>\n",
       "    <tr>\n",
       "      <th>21942</th>\n",
       "      <td>1.602407</td>\n",
       "      <td>-0.026933</td>\n",
       "      <td>-0.330566</td>\n",
       "      <td>0.174366</td>\n",
       "      <td>-0.621537</td>\n",
       "      <td>2.341699</td>\n",
       "      <td>-1.450259</td>\n",
       "      <td>1.634639</td>\n",
       "      <td>0.399544</td>\n",
       "      <td>-1.467731</td>\n",
       "      <td>-0.149235</td>\n",
       "      <td>-0.221626</td>\n",
       "      <td>-0.381593</td>\n",
       "      <td>0.239707</td>\n",
       "    </tr>\n",
       "    <tr>\n",
       "      <th>21943</th>\n",
       "      <td>1.105577</td>\n",
       "      <td>0.857812</td>\n",
       "      <td>1.235142</td>\n",
       "      <td>0.174366</td>\n",
       "      <td>-0.621537</td>\n",
       "      <td>-0.336551</td>\n",
       "      <td>-0.708556</td>\n",
       "      <td>2.257445</td>\n",
       "      <td>0.399544</td>\n",
       "      <td>-1.467731</td>\n",
       "      <td>2.038556</td>\n",
       "      <td>-0.221626</td>\n",
       "      <td>-0.381593</td>\n",
       "      <td>0.239707</td>\n",
       "    </tr>\n",
       "  </tbody>\n",
       "</table>\n",
       "<p>21944 rows × 14 columns</p>\n",
       "</div>"
      ],
      "text/plain": [
       "            Age  Workclass    Fnlwgt  Education  Education_num  \\\n",
       "0     -0.053693  -0.026933  0.403107   0.174366      -0.621537   \n",
       "1      1.188382  -0.026933  0.622681  -2.377709      -1.529744   \n",
       "2     -0.881743  -0.026933  1.816246  -0.554798       1.194878   \n",
       "3     -0.136498  -0.026933  1.196637   0.538948       1.648981   \n",
       "4      1.105577   1.742557  0.333994   0.174366      -0.621537   \n",
       "...         ...        ...       ...        ...            ...   \n",
       "21939 -1.378573  -0.026933  1.490977   1.268112      -0.167433   \n",
       "21940 -0.964548  -0.026933  0.882614  -1.283962       0.740774   \n",
       "21941  0.111917  -0.026933 -0.302202   0.174366      -0.621537   \n",
       "21942  1.602407  -0.026933 -0.330566   0.174366      -0.621537   \n",
       "21943  1.105577   0.857812  1.235142   0.174366      -0.621537   \n",
       "\n",
       "       Marital_status  Occupation  Relationship      Race       Sex  \\\n",
       "0           -1.675676   -0.214088     -0.233779  0.399544  0.681324   \n",
       "1           -0.336551   -0.214088     -0.856585 -1.927004  0.681324   \n",
       "2           -0.336551    0.774849      2.257445 -1.927004 -1.467731   \n",
       "3           -0.336551   -0.708556      2.257445  0.399544 -1.467731   \n",
       "4           -0.336551   -0.708556     -0.856585  0.399544  0.681324   \n",
       "...               ...         ...           ...       ...       ...   \n",
       "21939        1.002574    1.022083     -0.233779  0.399544  0.681324   \n",
       "21940       -0.336551    1.516551      2.257445  0.399544 -1.467731   \n",
       "21941       -0.336551    0.033146     -0.856585  0.399544  0.681324   \n",
       "21942        2.341699   -1.450259      1.634639  0.399544 -1.467731   \n",
       "21943       -0.336551   -0.708556      2.257445  0.399544 -1.467731   \n",
       "\n",
       "       Capital_gain  Capital_loss  Hours_per_week  Native_country  \n",
       "0         -0.149235     -0.221626       -0.381593        0.239707  \n",
       "1         -0.149235     -0.221626       -0.381593        0.239707  \n",
       "2         -0.149235     -0.221626       -0.381593       -5.659821  \n",
       "3         -0.149235     -0.221626       -0.381593        0.239707  \n",
       "4         -0.149235     -0.221626        0.875365        0.239707  \n",
       "...             ...           ...             ...             ...  \n",
       "21939     -0.149235     -0.221626       -0.381593        0.239707  \n",
       "21940     -0.149235     -0.221626       -0.913748        0.239707  \n",
       "21941     -0.149235     -0.221626       -0.381593        0.239707  \n",
       "21942     -0.149235     -0.221626       -0.381593        0.239707  \n",
       "21943      2.038556     -0.221626       -0.381593        0.239707  \n",
       "\n",
       "[21944 rows x 14 columns]"
      ]
     },
     "execution_count": 43,
     "metadata": {},
     "output_type": "execute_result"
    }
   ],
   "source": [
    "from sklearn.preprocessing import StandardScaler\n",
    "scaler=StandardScaler()\n",
    "x=pd.DataFrame(scaler.fit_transform(x),columns=x.columns)\n",
    "x"
   ]
  },
  {
   "cell_type": "markdown",
   "id": "93c7f3d1-a0af-4f55-b6ce-65205d42ad28",
   "metadata": {},
   "source": [
    "### Checking Variance Inflation Factor(VIF)"
   ]
  },
  {
   "cell_type": "code",
   "execution_count": 44,
   "id": "294faaf7-648c-4ce7-b2cc-c52559e304aa",
   "metadata": {},
   "outputs": [
    {
     "name": "stdout",
     "output_type": "stream",
     "text": [
      "          Features  VIF Values\n",
      "0              Age    1.148132\n",
      "1        Workclass    1.008676\n",
      "2           Fnlwgt    1.008408\n",
      "3        Education    1.036433\n",
      "4    Education_num    1.096196\n",
      "5   Marital_status    1.106237\n",
      "6       Occupation    1.025401\n",
      "7     Relationship    1.652038\n",
      "8             Race    1.047704\n",
      "9              Sex    1.575030\n",
      "10    Capital_gain    1.024450\n",
      "11    Capital_loss    1.015224\n",
      "12  Hours_per_week    1.079063\n",
      "13  Native_country    1.024180\n"
     ]
    }
   ],
   "source": [
    "from statsmodels.stats.outliers_influence import variance_inflation_factor\n",
    "\n",
    "# Calculate VIF\n",
    "vif_data = {'Features': x.columns,\n",
    "            'VIF Values': [variance_inflation_factor(x.values, i) for i in range(x.shape[1])]}\n",
    "\n",
    "vif = pd.DataFrame(vif_data)\n",
    "\n",
    "# Display the VIF dataframe\n",
    "print(vif)"
   ]
  },
  {
   "cell_type": "markdown",
   "id": "7036d4bb-c769-417d-94ac-74a06ea62c80",
   "metadata": {},
   "source": [
    "### Performing PCA(Principal Component Analysis (PCA))"
   ]
  },
  {
   "cell_type": "code",
   "execution_count": 45,
   "id": "47652723-5425-4f5f-9f9f-ede1b43c489b",
   "metadata": {},
   "outputs": [],
   "source": [
    "from sklearn.decomposition import PCA\n",
    "pca=PCA(n_components=4) \n",
    "x=pca.fit_transform(x)"
   ]
  },
  {
   "cell_type": "markdown",
   "id": "b62605fd-2524-4be0-8ea4-5aa6ef36cd9f",
   "metadata": {},
   "source": [
    "- We have scaled the data using the standard scaler method to ensure that all features contribute equally to the analysis, thus overcoming the issue of bias caused by varying scales of the features.\n",
    "- We have used the PCA method to manage bias in the data by transforming the original features into a set of orthogonal components, which helps in reducing dimensionality and capturing the most important variance in the data"
   ]
  },
  {
   "cell_type": "markdown",
   "id": "5d3a7e67-0ac7-412b-b992-8d801c14f0a3",
   "metadata": {},
   "source": [
    "### Oversampling"
   ]
  },
  {
   "cell_type": "code",
   "execution_count": 46,
   "id": "f9a4a797-fca4-4ea4-b39a-277fae5f8cdc",
   "metadata": {},
   "outputs": [],
   "source": [
    "#Oversampling the data\n",
    "from imblearn.over_sampling import SMOTE\n",
    "SM=SMOTE()\n",
    "x1,y1=SM.fit_resample(x,y)"
   ]
  },
  {
   "cell_type": "markdown",
   "id": "61dcbe9b-203e-48ea-9327-631dbc510af8",
   "metadata": {},
   "source": [
    "We used an oversampling method to address the class imbalance problem"
   ]
  },
  {
   "cell_type": "markdown",
   "id": "c549da7f-3320-4f6f-bbc4-4265567ae567",
   "metadata": {},
   "source": [
    "### Model Selection"
   ]
  },
  {
   "cell_type": "code",
   "execution_count": 47,
   "id": "1eabdf99-5722-495c-ab43-cab593e0846f",
   "metadata": {},
   "outputs": [],
   "source": [
    "#Importing mode\n",
    "from sklearn.linear_model import LogisticRegression #Logistic Regression\n",
    "from sklearn.metrics import accuracy_score,confusion_matrix,classification_report\n",
    "from sklearn.tree import DecisionTreeClassifier #Decision Tree Classifier\n",
    "from sklearn.ensemble import RandomForestClassifier,ExtraTreesClassifier #Random Forest Classifier and Extra Trees Classifier\n",
    "from sklearn.ensemble import GradientBoostingClassifier,AdaBoostClassifier #Gradient Boosting Classifier ,AdaBoost Classifier \n",
    "from sklearn.svm import SVC #Support Vector Classifier\n",
    "from sklearn.neighbors import KNeighborsClassifier #K-Nearest Neighbors Classifier"
   ]
  },
  {
   "cell_type": "code",
   "execution_count": 48,
   "id": "565d3eb4-12a7-4291-9ba0-d44a03f528cb",
   "metadata": {},
   "outputs": [],
   "source": [
    "from sklearn.model_selection import train_test_split"
   ]
  },
  {
   "cell_type": "code",
   "execution_count": 49,
   "id": "595e3005-7727-40c4-81cc-cbadb0062892",
   "metadata": {},
   "outputs": [
    {
     "name": "stdout",
     "output_type": "stream",
     "text": [
      "Maximum accuracy_Score is=> 0.7489427539969056 On Random State=> 130\n"
     ]
    }
   ],
   "source": [
    "#find the best random State\n",
    "max_accuracy=0\n",
    "best_state=0\n",
    "random_state=range(1,200)\n",
    "for state in random_state:\n",
    "    x_train,x_test,y_train,y_test=train_test_split(x1,y1,test_size=.30,random_state=state)\n",
    "    lr=LogisticRegression()\n",
    "    lr.fit(x_train,y_train)\n",
    "    pred=lr.predict(x_test)\n",
    "    acc=accuracy_score(y_test,pred)\n",
    "    if acc>max_accuracy:\n",
    "        max_accuracy=acc\n",
    "        best_state=state\n",
    "print(\"Maximum accuracy_Score is=>\",max_accuracy,\"On Random State=>\",best_state)"
   ]
  },
  {
   "cell_type": "code",
   "execution_count": 50,
   "id": "5278ca67-bfdc-4e36-88ce-af08eae96634",
   "metadata": {},
   "outputs": [],
   "source": [
    "x_train,x_test,y_train,y_test=train_test_split(x1,y1,test_size=.30,random_state=best_state)"
   ]
  },
  {
   "cell_type": "markdown",
   "id": "1c7c548b-16a3-48b3-acc3-9e005e0a4844",
   "metadata": {},
   "source": [
    "#### LogisticRegression"
   ]
  },
  {
   "cell_type": "code",
   "execution_count": 51,
   "id": "5109cff8-4699-4415-b43b-2e887daa9dd7",
   "metadata": {},
   "outputs": [
    {
     "name": "stdout",
     "output_type": "stream",
     "text": [
      "LogisticRegression()\n",
      "Accuracy Score:- 0.7489427539969056\n",
      "Confusion Matrix:- [[3570 1262]\n",
      " [1172 3691]]\n",
      "Classification Report:-               precision    recall  f1-score   support\n",
      "\n",
      "           0       0.75      0.74      0.75      4832\n",
      "           1       0.75      0.76      0.75      4863\n",
      "\n",
      "    accuracy                           0.75      9695\n",
      "   macro avg       0.75      0.75      0.75      9695\n",
      "weighted avg       0.75      0.75      0.75      9695\n",
      "\n",
      "------------------------------------------------------------\n"
     ]
    }
   ],
   "source": [
    "LG=LogisticRegression()\n",
    "LG.fit(x_train,y_train)\n",
    "pred_lg=LG.predict(x_test)\n",
    "print(LG)\n",
    "print('Accuracy Score:-',accuracy_score(y_test,pred_lg))\n",
    "print('Confusion Matrix:-',confusion_matrix(y_test,pred_lg))\n",
    "print('Classification Report:-',classification_report(y_test,pred_lg))\n",
    "print('---'*20)"
   ]
  },
  {
   "cell_type": "markdown",
   "id": "b056f8bc-aa88-4b00-a927-0d6fd271ab73",
   "metadata": {},
   "source": [
    "### ExtraTreesClassifier"
   ]
  },
  {
   "cell_type": "code",
   "execution_count": 52,
   "id": "1db12b53-34e7-40b5-be8a-4bf6ca2ceda5",
   "metadata": {},
   "outputs": [
    {
     "name": "stdout",
     "output_type": "stream",
     "text": [
      "ExtraTreesClassifier()\n",
      "Accuracy Score:- 0.8498194945848375\n",
      "Confusion Matrix:- [[3916  916]\n",
      " [ 540 4323]]\n",
      "Classification Report:-               precision    recall  f1-score   support\n",
      "\n",
      "           0       0.88      0.81      0.84      4832\n",
      "           1       0.83      0.89      0.86      4863\n",
      "\n",
      "    accuracy                           0.85      9695\n",
      "   macro avg       0.85      0.85      0.85      9695\n",
      "weighted avg       0.85      0.85      0.85      9695\n",
      "\n",
      "------------------------------------------------------------\n"
     ]
    }
   ],
   "source": [
    "etc=ExtraTreesClassifier()\n",
    "etc.fit(x_train,y_train)\n",
    "pred_etc=etc.predict(x_test)\n",
    "print(etc)\n",
    "print('Accuracy Score:-',accuracy_score(y_test,pred_etc))\n",
    "print('Confusion Matrix:-',confusion_matrix(y_test,pred_etc))\n",
    "print('Classification Report:-',classification_report(y_test,pred_etc))\n",
    "print('---'*20)"
   ]
  },
  {
   "cell_type": "markdown",
   "id": "fa727e88-c81a-41d7-9e24-ff2ab0c12ec0",
   "metadata": {},
   "source": [
    "### DecisionTreeClassifier"
   ]
  },
  {
   "cell_type": "code",
   "execution_count": 53,
   "id": "62322f5c-8cc0-45d8-bf75-c5dac0548c40",
   "metadata": {},
   "outputs": [
    {
     "name": "stdout",
     "output_type": "stream",
     "text": [
      "DecisionTreeClassifier()\n",
      "Accuracy Score:- 0.768231046931408\n",
      "Confusion Matrix:- [[3625 1207]\n",
      " [1040 3823]]\n",
      "Classification Report:-               precision    recall  f1-score   support\n",
      "\n",
      "           0       0.78      0.75      0.76      4832\n",
      "           1       0.76      0.79      0.77      4863\n",
      "\n",
      "    accuracy                           0.77      9695\n",
      "   macro avg       0.77      0.77      0.77      9695\n",
      "weighted avg       0.77      0.77      0.77      9695\n",
      "\n",
      "------------------------------------------------------------\n"
     ]
    }
   ],
   "source": [
    "dtc=DecisionTreeClassifier()\n",
    "dtc.fit(x_train,y_train)\n",
    "pred_dtc=dtc.predict(x_test)\n",
    "print(dtc)\n",
    "print('Accuracy Score:-',accuracy_score(y_test,pred_dtc))\n",
    "print('Confusion Matrix:-',confusion_matrix(y_test,pred_dtc))\n",
    "print('Classification Report:-',classification_report(y_test,pred_dtc))\n",
    "print('---'*20)"
   ]
  },
  {
   "cell_type": "markdown",
   "id": "cc1fcd7a-b5fe-4aa9-8aa1-c61af68bcb0e",
   "metadata": {},
   "source": [
    "### GradientBoostingClassifier"
   ]
  },
  {
   "cell_type": "code",
   "execution_count": 54,
   "id": "7bfee715-e0bf-4b96-aadf-b1ab8db78025",
   "metadata": {},
   "outputs": [
    {
     "name": "stdout",
     "output_type": "stream",
     "text": [
      "GradientBoostingClassifier()\n",
      "Accuracy Score:- 0.7862815884476534\n",
      "Confusion Matrix:- [[3564 1268]\n",
      " [ 804 4059]]\n",
      "Classification Report:-               precision    recall  f1-score   support\n",
      "\n",
      "           0       0.82      0.74      0.77      4832\n",
      "           1       0.76      0.83      0.80      4863\n",
      "\n",
      "    accuracy                           0.79      9695\n",
      "   macro avg       0.79      0.79      0.79      9695\n",
      "weighted avg       0.79      0.79      0.79      9695\n",
      "\n",
      "------------------------------------------------------------\n"
     ]
    }
   ],
   "source": [
    "gbc=GradientBoostingClassifier()\n",
    "gbc.fit(x_train,y_train)\n",
    "pred_gbc=gbc.predict(x_test)\n",
    "print(gbc)\n",
    "print('Accuracy Score:-',accuracy_score(y_test,pred_gbc))\n",
    "print('Confusion Matrix:-',confusion_matrix(y_test,pred_gbc))\n",
    "print('Classification Report:-',classification_report(y_test,pred_gbc))\n",
    "print('---'*20)"
   ]
  },
  {
   "cell_type": "markdown",
   "id": "994c3509-a690-4e6f-b952-f49743b9ee67",
   "metadata": {},
   "source": [
    "### AdaBoostClassifier"
   ]
  },
  {
   "cell_type": "code",
   "execution_count": 55,
   "id": "53b785cd-5df1-459e-8046-9d77880b7620",
   "metadata": {},
   "outputs": [
    {
     "name": "stdout",
     "output_type": "stream",
     "text": [
      "AdaBoostClassifier()\n",
      "Accuracy Score:- 0.762867457452295\n",
      "Confusion Matrix:- [[3563 1269]\n",
      " [1030 3833]]\n",
      "Classification Report:-               precision    recall  f1-score   support\n",
      "\n",
      "           0       0.78      0.74      0.76      4832\n",
      "           1       0.75      0.79      0.77      4863\n",
      "\n",
      "    accuracy                           0.76      9695\n",
      "   macro avg       0.76      0.76      0.76      9695\n",
      "weighted avg       0.76      0.76      0.76      9695\n",
      "\n",
      "------------------------------------------------------------\n"
     ]
    }
   ],
   "source": [
    "abc=AdaBoostClassifier()\n",
    "abc.fit(x_train,y_train)\n",
    "pred_abc=abc.predict(x_test)\n",
    "print(abc)\n",
    "print('Accuracy Score:-',accuracy_score(y_test,pred_abc))\n",
    "print('Confusion Matrix:-',confusion_matrix(y_test,pred_abc))\n",
    "print('Classification Report:-',classification_report(y_test,pred_abc))\n",
    "print('---'*20)"
   ]
  },
  {
   "cell_type": "markdown",
   "id": "05dab192-e8df-40a3-b11d-8a49f50f5505",
   "metadata": {},
   "source": [
    "#### RandomForestClassifier "
   ]
  },
  {
   "cell_type": "code",
   "execution_count": 56,
   "id": "a0c0fff6-f0aa-43d3-8005-2462bac8960b",
   "metadata": {},
   "outputs": [
    {
     "name": "stdout",
     "output_type": "stream",
     "text": [
      "RandomForestClassifier()\n",
      "Accuracy Score:- 0.835069623517277\n",
      "Confusion Matrix:- [[3838  994]\n",
      " [ 605 4258]]\n",
      "Classification Report:-               precision    recall  f1-score   support\n",
      "\n",
      "           0       0.86      0.79      0.83      4832\n",
      "           1       0.81      0.88      0.84      4863\n",
      "\n",
      "    accuracy                           0.84      9695\n",
      "   macro avg       0.84      0.83      0.83      9695\n",
      "weighted avg       0.84      0.84      0.83      9695\n",
      "\n",
      "------------------------------------------------------------\n"
     ]
    }
   ],
   "source": [
    "rfc=RandomForestClassifier()\n",
    "rfc.fit(x_train,y_train)\n",
    "pred_rfc=rfc.predict(x_test)\n",
    "print(rfc)\n",
    "print('Accuracy Score:-',accuracy_score(y_test,pred_rfc))\n",
    "print('Confusion Matrix:-',confusion_matrix(y_test,pred_rfc))\n",
    "print('Classification Report:-',classification_report(y_test,pred_rfc))\n",
    "print('---'*20)"
   ]
  },
  {
   "cell_type": "markdown",
   "id": "11f0a820-c625-45e9-ad4d-82385591f6f5",
   "metadata": {},
   "source": [
    "#### KNeighborsClassifier"
   ]
  },
  {
   "cell_type": "code",
   "execution_count": 57,
   "id": "a745b0bb-3942-484e-84a9-cea8276c7c3a",
   "metadata": {},
   "outputs": [
    {
     "name": "stdout",
     "output_type": "stream",
     "text": [
      "KNeighborsClassifier()\n",
      "Accuracy Score:- 0.8179473955647241\n",
      "Confusion Matrix:- [[3576 1256]\n",
      " [ 509 4354]]\n",
      "Classification Report:-               precision    recall  f1-score   support\n",
      "\n",
      "           0       0.88      0.74      0.80      4832\n",
      "           1       0.78      0.90      0.83      4863\n",
      "\n",
      "    accuracy                           0.82      9695\n",
      "   macro avg       0.83      0.82      0.82      9695\n",
      "weighted avg       0.83      0.82      0.82      9695\n",
      "\n",
      "------------------------------------------------------------\n"
     ]
    }
   ],
   "source": [
    "knn=KNeighborsClassifier()\n",
    "knn.fit(x_train,y_train)\n",
    "pred_knn=knn.predict(x_test)\n",
    "print(knn)\n",
    "print('Accuracy Score:-',accuracy_score(y_test,pred_knn))\n",
    "print('Confusion Matrix:-',confusion_matrix(y_test,pred_knn))\n",
    "print('Classification Report:-',classification_report(y_test,pred_knn))\n",
    "print('---'*20)"
   ]
  },
  {
   "cell_type": "markdown",
   "id": "8628810f-3192-40d6-b6bd-afb93d2e5a2b",
   "metadata": {},
   "source": [
    "#### SVC"
   ]
  },
  {
   "cell_type": "code",
   "execution_count": 58,
   "id": "9cad8b40-f12f-40aa-ab51-40f2ba3bc071",
   "metadata": {},
   "outputs": [
    {
     "name": "stdout",
     "output_type": "stream",
     "text": [
      "SVC()\n",
      "Accuracy Score:- 0.7822588963383187\n",
      "Confusion Matrix:- [[3351 1481]\n",
      " [ 630 4233]]\n",
      "Classification Report:-               precision    recall  f1-score   support\n",
      "\n",
      "           0       0.84      0.69      0.76      4832\n",
      "           1       0.74      0.87      0.80      4863\n",
      "\n",
      "    accuracy                           0.78      9695\n",
      "   macro avg       0.79      0.78      0.78      9695\n",
      "weighted avg       0.79      0.78      0.78      9695\n",
      "\n",
      "------------------------------------------------------------\n"
     ]
    }
   ],
   "source": [
    "svc=SVC()\n",
    "svc.fit(x_train,y_train)\n",
    "pred_svc=svc.predict(x_test)\n",
    "print(svc)\n",
    "print('Accuracy Score:-',accuracy_score(y_test,pred_svc))\n",
    "print('Confusion Matrix:-',confusion_matrix(y_test,pred_svc))\n",
    "print('Classification Report:-',classification_report(y_test,pred_svc))\n",
    "print('---'*20)"
   ]
  },
  {
   "cell_type": "markdown",
   "id": "81550d9c-fcaf-4fec-ab1d-84d5ef0de6ce",
   "metadata": {},
   "source": [
    "### Cross Validation Score"
   ]
  },
  {
   "cell_type": "code",
   "execution_count": 59,
   "id": "ec488da5-7a00-4dad-9446-684a9a63a908",
   "metadata": {},
   "outputs": [],
   "source": [
    "from sklearn.model_selection import cross_val_score"
   ]
  },
  {
   "cell_type": "markdown",
   "id": "6410d7b1-319e-42a9-bd67-63d09d8e16e7",
   "metadata": {},
   "source": [
    "#### LogisticRegression"
   ]
  },
  {
   "cell_type": "code",
   "execution_count": 60,
   "id": "2bf3e273-a271-4ab9-96c7-c0fce043ac5c",
   "metadata": {},
   "outputs": [
    {
     "name": "stdout",
     "output_type": "stream",
     "text": [
      "[0.78537252 0.7874231  0.79220779 0.78947368 0.80378304]\n",
      "0.7916520293025595\n",
      "Difference between accuracy score and cross validation score is: -4.270927530565394\n"
     ]
    }
   ],
   "source": [
    "score=cross_val_score(LG,x,y)\n",
    "print(score)\n",
    "print(score.mean())\n",
    "print('Difference between accuracy score and cross validation score is:',(accuracy_score(y_test,pred_lg)-score.mean())*100)"
   ]
  },
  {
   "cell_type": "markdown",
   "id": "5eaace04-adb3-4228-8895-c6424c2a00eb",
   "metadata": {},
   "source": [
    "#### ExtraTreesClassifier"
   ]
  },
  {
   "cell_type": "code",
   "execution_count": 61,
   "id": "931c419c-4a21-45df-bf86-bdc8d1f955f2",
   "metadata": {},
   "outputs": [
    {
     "name": "stdout",
     "output_type": "stream",
     "text": [
      "[0.78286626 0.789018   0.78947368 0.79106858 0.79740201]\n",
      "0.789965705263407\n",
      "Difference between accuracy score and cross validation score is: 5.985378932143048\n"
     ]
    }
   ],
   "source": [
    "score1=cross_val_score(etc,x,y)\n",
    "print(score1)\n",
    "print(score1.mean())\n",
    "print('Difference between accuracy score and cross validation score is:',(accuracy_score(y_test,pred_etc)-score1.mean())*100)"
   ]
  },
  {
   "cell_type": "markdown",
   "id": "027f71e1-b3c2-4e2b-a5b2-90039a5c5b31",
   "metadata": {},
   "source": [
    "#### DecisionTreeClassifier"
   ]
  },
  {
   "cell_type": "code",
   "execution_count": 62,
   "id": "6eb4eb11-712b-41a7-afca-1dbd6ad6c13e",
   "metadata": {},
   "outputs": [
    {
     "name": "stdout",
     "output_type": "stream",
     "text": [
      "[0.74641148 0.73729779 0.74025974 0.73501937 0.74407475]\n",
      "0.7406126258714658\n",
      "Difference between accuracy score and cross validation score is: 2.7618421059942166\n"
     ]
    }
   ],
   "source": [
    "score2=cross_val_score(dtc,x,y)\n",
    "print(score2)\n",
    "print(score2.mean())\n",
    "print('Difference between accuracy score and cross validation score is:',(accuracy_score(y_test,pred_dtc)-score2.mean())*100)"
   ]
  },
  {
   "cell_type": "markdown",
   "id": "823c6119-2359-4ca3-b528-9149e11a8996",
   "metadata": {},
   "source": [
    "#### GradientBoostingClassifier"
   ]
  },
  {
   "cell_type": "code",
   "execution_count": 63,
   "id": "24a735df-76c0-46cd-bef6-87c433e85713",
   "metadata": {},
   "outputs": [
    {
     "name": "stdout",
     "output_type": "stream",
     "text": [
      "[0.79220779 0.80291638 0.80200501 0.79767601 0.8094804 ]\n",
      "0.8008571191798174\n",
      "Difference between accuracy score and cross validation score is: -1.4575530732164\n"
     ]
    }
   ],
   "source": [
    "score3=cross_val_score(gbc,x,y)\n",
    "print(score3)\n",
    "print(score3.mean())\n",
    "print('Difference between accuracy score and cross validation score is:',(accuracy_score(y_test,pred_gbc)-score3.mean())*100)"
   ]
  },
  {
   "cell_type": "markdown",
   "id": "6b4ba552-2306-43f7-9457-04a90f2bf485",
   "metadata": {},
   "source": [
    "#### AdaBoostClassifier"
   ]
  },
  {
   "cell_type": "code",
   "execution_count": 64,
   "id": "70dacb33-c769-4ca4-99d6-14ef9690ed61",
   "metadata": {},
   "outputs": [
    {
     "name": "stdout",
     "output_type": "stream",
     "text": [
      "[0.78081568 0.79380269 0.78833447 0.79152427 0.80355515]\n",
      "0.7916064504511466\n",
      "Difference between accuracy score and cross validation score is: -2.873899299885163\n"
     ]
    }
   ],
   "source": [
    "score4=cross_val_score(abc,x,y)\n",
    "print(score4)\n",
    "print(score4.mean())\n",
    "print('Difference between accuracy score and cross validation score is:',(accuracy_score(y_test,pred_abc)-score4.mean())*100)"
   ]
  },
  {
   "cell_type": "markdown",
   "id": "d1e08418-e186-488a-97b0-ca6048f0fb3c",
   "metadata": {},
   "source": [
    "#### RandomForestClassifier"
   ]
  },
  {
   "cell_type": "code",
   "execution_count": 65,
   "id": "6dc5a66c-6ab8-42a7-9fff-d7c62c9c1a6c",
   "metadata": {},
   "outputs": [
    {
     "name": "stdout",
     "output_type": "stream",
     "text": [
      "[0.78628389 0.79243563 0.79084074 0.79357485 0.79580675]\n",
      "0.791788371234708\n",
      "Difference between accuracy score and cross validation score is: 4.328125228256896\n"
     ]
    }
   ],
   "source": [
    "score5=cross_val_score(rfc,x,y)\n",
    "print(score5)\n",
    "print(score5.mean())\n",
    "print('Difference between accuracy score and cross validation score is:',(accuracy_score(y_test,pred_rfc)-score5.mean())*100)"
   ]
  },
  {
   "cell_type": "markdown",
   "id": "8f53b513-ce7a-4ab6-a89c-396f47596281",
   "metadata": {},
   "source": [
    "#### KNeighborsClassifier"
   ]
  },
  {
   "cell_type": "code",
   "execution_count": 66,
   "id": "8f7999cd-5b1b-421c-af73-1981770fdb8c",
   "metadata": {},
   "outputs": [
    {
     "name": "stdout",
     "output_type": "stream",
     "text": [
      "[0.77899294 0.78013215 0.77580314 0.78172704 0.78851413]\n",
      "0.7810338807987898\n",
      "Difference between accuracy score and cross validation score is: 3.6913514765934297\n"
     ]
    }
   ],
   "source": [
    "score6=cross_val_score(knn,x,y)\n",
    "print(score6)\n",
    "print(score6.mean())\n",
    "print('Difference between accuracy score and cross validation score is:',(accuracy_score(y_test,pred_knn)-score6.mean())*100)"
   ]
  },
  {
   "cell_type": "markdown",
   "id": "9f8c5024-f748-44fa-a031-a09c6a8da107",
   "metadata": {},
   "source": [
    "#### SVC"
   ]
  },
  {
   "cell_type": "code",
   "execution_count": 67,
   "id": "1c9d1b89-f737-4cee-b279-1ca86c262884",
   "metadata": {},
   "outputs": [
    {
     "name": "stdout",
     "output_type": "stream",
     "text": [
      "[0.79084074 0.79767601 0.80177717 0.80405559 0.80925251]\n",
      "0.8007204033951624\n",
      "Difference between accuracy score and cross validation score is: -1.8461507056843685\n"
     ]
    }
   ],
   "source": [
    "score7=cross_val_score(svc,x,y)\n",
    "print(score7)\n",
    "print(score7.mean())\n",
    "print('Difference between accuracy score and cross validation score is:',(accuracy_score(y_test,pred_svc)-score7.mean())*100)"
   ]
  },
  {
   "cell_type": "markdown",
   "id": "764aada0-79fb-4c3c-bb78-32269ea43f61",
   "metadata": {},
   "source": [
    "- The KNeighborsClassifier seems to perform relatively well among the models tested, as it has a high mean cross-validation score and a small difference between accuracy score and cross-validation score\n",
    "- KNeighborsClassifier is our best fitting and best performing model"
   ]
  },
  {
   "cell_type": "markdown",
   "id": "cd616735-5b38-4bef-8f10-36f10b9e5a19",
   "metadata": {},
   "source": [
    "### Hyper Parameter Tuning"
   ]
  },
  {
   "cell_type": "code",
   "execution_count": 69,
   "id": "d687b620-81d5-4449-b112-9e032bcf173b",
   "metadata": {},
   "outputs": [],
   "source": [
    "from sklearn.model_selection import GridSearchCV"
   ]
  },
  {
   "cell_type": "code",
   "execution_count": 70,
   "id": "6b597172-6bc7-420b-a917-a61cb68f7ff0",
   "metadata": {},
   "outputs": [],
   "source": [
    "param_grid = {\n",
    "    'n_neighbors': [3, 5, 7],\n",
    "    'weights': ['uniform', 'distance'],\n",
    "    'algorithm': ['auto', 'ball_tree', 'kd_tree'],\n",
    "    'leaf_size': [20, 30, 40],\n",
    "    'p': [1, 2, 3]\n",
    "}"
   ]
  },
  {
   "cell_type": "code",
   "execution_count": 71,
   "id": "e6233b38-22b7-41e0-9a9d-5c7d7a8e4db6",
   "metadata": {},
   "outputs": [],
   "source": [
    "GSCV=GridSearchCV(knn,param_grid,cv=5)"
   ]
  },
  {
   "cell_type": "code",
   "execution_count": 72,
   "id": "6664c55a-bf29-4ff9-a16e-063eaa3b322a",
   "metadata": {},
   "outputs": [
    {
     "data": {
      "text/html": [
       "<style>#sk-container-id-1 {color: black;background-color: white;}#sk-container-id-1 pre{padding: 0;}#sk-container-id-1 div.sk-toggleable {background-color: white;}#sk-container-id-1 label.sk-toggleable__label {cursor: pointer;display: block;width: 100%;margin-bottom: 0;padding: 0.3em;box-sizing: border-box;text-align: center;}#sk-container-id-1 label.sk-toggleable__label-arrow:before {content: \"▸\";float: left;margin-right: 0.25em;color: #696969;}#sk-container-id-1 label.sk-toggleable__label-arrow:hover:before {color: black;}#sk-container-id-1 div.sk-estimator:hover label.sk-toggleable__label-arrow:before {color: black;}#sk-container-id-1 div.sk-toggleable__content {max-height: 0;max-width: 0;overflow: hidden;text-align: left;background-color: #f0f8ff;}#sk-container-id-1 div.sk-toggleable__content pre {margin: 0.2em;color: black;border-radius: 0.25em;background-color: #f0f8ff;}#sk-container-id-1 input.sk-toggleable__control:checked~div.sk-toggleable__content {max-height: 200px;max-width: 100%;overflow: auto;}#sk-container-id-1 input.sk-toggleable__control:checked~label.sk-toggleable__label-arrow:before {content: \"▾\";}#sk-container-id-1 div.sk-estimator input.sk-toggleable__control:checked~label.sk-toggleable__label {background-color: #d4ebff;}#sk-container-id-1 div.sk-label input.sk-toggleable__control:checked~label.sk-toggleable__label {background-color: #d4ebff;}#sk-container-id-1 input.sk-hidden--visually {border: 0;clip: rect(1px 1px 1px 1px);clip: rect(1px, 1px, 1px, 1px);height: 1px;margin: -1px;overflow: hidden;padding: 0;position: absolute;width: 1px;}#sk-container-id-1 div.sk-estimator {font-family: monospace;background-color: #f0f8ff;border: 1px dotted black;border-radius: 0.25em;box-sizing: border-box;margin-bottom: 0.5em;}#sk-container-id-1 div.sk-estimator:hover {background-color: #d4ebff;}#sk-container-id-1 div.sk-parallel-item::after {content: \"\";width: 100%;border-bottom: 1px solid gray;flex-grow: 1;}#sk-container-id-1 div.sk-label:hover label.sk-toggleable__label {background-color: #d4ebff;}#sk-container-id-1 div.sk-serial::before {content: \"\";position: absolute;border-left: 1px solid gray;box-sizing: border-box;top: 0;bottom: 0;left: 50%;z-index: 0;}#sk-container-id-1 div.sk-serial {display: flex;flex-direction: column;align-items: center;background-color: white;padding-right: 0.2em;padding-left: 0.2em;position: relative;}#sk-container-id-1 div.sk-item {position: relative;z-index: 1;}#sk-container-id-1 div.sk-parallel {display: flex;align-items: stretch;justify-content: center;background-color: white;position: relative;}#sk-container-id-1 div.sk-item::before, #sk-container-id-1 div.sk-parallel-item::before {content: \"\";position: absolute;border-left: 1px solid gray;box-sizing: border-box;top: 0;bottom: 0;left: 50%;z-index: -1;}#sk-container-id-1 div.sk-parallel-item {display: flex;flex-direction: column;z-index: 1;position: relative;background-color: white;}#sk-container-id-1 div.sk-parallel-item:first-child::after {align-self: flex-end;width: 50%;}#sk-container-id-1 div.sk-parallel-item:last-child::after {align-self: flex-start;width: 50%;}#sk-container-id-1 div.sk-parallel-item:only-child::after {width: 0;}#sk-container-id-1 div.sk-dashed-wrapped {border: 1px dashed gray;margin: 0 0.4em 0.5em 0.4em;box-sizing: border-box;padding-bottom: 0.4em;background-color: white;}#sk-container-id-1 div.sk-label label {font-family: monospace;font-weight: bold;display: inline-block;line-height: 1.2em;}#sk-container-id-1 div.sk-label-container {text-align: center;}#sk-container-id-1 div.sk-container {/* jupyter's `normalize.less` sets `[hidden] { display: none; }` but bootstrap.min.css set `[hidden] { display: none !important; }` so we also need the `!important` here to be able to override the default hidden behavior on the sphinx rendered scikit-learn.org. See: https://github.com/scikit-learn/scikit-learn/issues/21755 */display: inline-block !important;position: relative;}#sk-container-id-1 div.sk-text-repr-fallback {display: none;}</style><div id=\"sk-container-id-1\" class=\"sk-top-container\"><div class=\"sk-text-repr-fallback\"><pre>GridSearchCV(cv=5, estimator=KNeighborsClassifier(),\n",
       "             param_grid={&#x27;algorithm&#x27;: [&#x27;auto&#x27;, &#x27;ball_tree&#x27;, &#x27;kd_tree&#x27;],\n",
       "                         &#x27;leaf_size&#x27;: [20, 30, 40], &#x27;n_neighbors&#x27;: [3, 5, 7],\n",
       "                         &#x27;p&#x27;: [1, 2, 3], &#x27;weights&#x27;: [&#x27;uniform&#x27;, &#x27;distance&#x27;]})</pre><b>In a Jupyter environment, please rerun this cell to show the HTML representation or trust the notebook. <br />On GitHub, the HTML representation is unable to render, please try loading this page with nbviewer.org.</b></div><div class=\"sk-container\" hidden><div class=\"sk-item sk-dashed-wrapped\"><div class=\"sk-label-container\"><div class=\"sk-label sk-toggleable\"><input class=\"sk-toggleable__control sk-hidden--visually\" id=\"sk-estimator-id-1\" type=\"checkbox\" ><label for=\"sk-estimator-id-1\" class=\"sk-toggleable__label sk-toggleable__label-arrow\">GridSearchCV</label><div class=\"sk-toggleable__content\"><pre>GridSearchCV(cv=5, estimator=KNeighborsClassifier(),\n",
       "             param_grid={&#x27;algorithm&#x27;: [&#x27;auto&#x27;, &#x27;ball_tree&#x27;, &#x27;kd_tree&#x27;],\n",
       "                         &#x27;leaf_size&#x27;: [20, 30, 40], &#x27;n_neighbors&#x27;: [3, 5, 7],\n",
       "                         &#x27;p&#x27;: [1, 2, 3], &#x27;weights&#x27;: [&#x27;uniform&#x27;, &#x27;distance&#x27;]})</pre></div></div></div><div class=\"sk-parallel\"><div class=\"sk-parallel-item\"><div class=\"sk-item\"><div class=\"sk-label-container\"><div class=\"sk-label sk-toggleable\"><input class=\"sk-toggleable__control sk-hidden--visually\" id=\"sk-estimator-id-2\" type=\"checkbox\" ><label for=\"sk-estimator-id-2\" class=\"sk-toggleable__label sk-toggleable__label-arrow\">estimator: KNeighborsClassifier</label><div class=\"sk-toggleable__content\"><pre>KNeighborsClassifier()</pre></div></div></div><div class=\"sk-serial\"><div class=\"sk-item\"><div class=\"sk-estimator sk-toggleable\"><input class=\"sk-toggleable__control sk-hidden--visually\" id=\"sk-estimator-id-3\" type=\"checkbox\" ><label for=\"sk-estimator-id-3\" class=\"sk-toggleable__label sk-toggleable__label-arrow\">KNeighborsClassifier</label><div class=\"sk-toggleable__content\"><pre>KNeighborsClassifier()</pre></div></div></div></div></div></div></div></div></div></div>"
      ],
      "text/plain": [
       "GridSearchCV(cv=5, estimator=KNeighborsClassifier(),\n",
       "             param_grid={'algorithm': ['auto', 'ball_tree', 'kd_tree'],\n",
       "                         'leaf_size': [20, 30, 40], 'n_neighbors': [3, 5, 7],\n",
       "                         'p': [1, 2, 3], 'weights': ['uniform', 'distance']})"
      ]
     },
     "execution_count": 72,
     "metadata": {},
     "output_type": "execute_result"
    }
   ],
   "source": [
    "GSCV.fit(x_train,y_train)"
   ]
  },
  {
   "cell_type": "code",
   "execution_count": 73,
   "id": "c6e122d9-4c44-4505-87c8-a572cc58cf9e",
   "metadata": {},
   "outputs": [
    {
     "data": {
      "text/plain": [
       "{'algorithm': 'auto',\n",
       " 'leaf_size': 20,\n",
       " 'n_neighbors': 3,\n",
       " 'p': 2,\n",
       " 'weights': 'distance'}"
      ]
     },
     "execution_count": 73,
     "metadata": {},
     "output_type": "execute_result"
    }
   ],
   "source": [
    "GSCV.best_params_"
   ]
  },
  {
   "cell_type": "code",
   "execution_count": 74,
   "id": "98b7506b-16d6-4351-849f-a21b3b757d35",
   "metadata": {},
   "outputs": [
    {
     "name": "stdout",
     "output_type": "stream",
     "text": [
      "84.10520887055183\n"
     ]
    }
   ],
   "source": [
    "best_model=KNeighborsClassifier(n_neighbors=3,weights='distance',algorithm='auto',leaf_size=20,p=2)\n",
    "best_model.fit(x_train,y_train)\n",
    "pred_=best_model.predict(x_test)\n",
    "acc=accuracy_score(y_test,pred_)\n",
    "print(acc*100)"
   ]
  },
  {
   "cell_type": "markdown",
   "id": "7be42227-ee03-448a-9ebb-d78e13fc9f55",
   "metadata": {},
   "source": [
    "#### By adding parameter my model give 84.10 % accuracy"
   ]
  },
  {
   "cell_type": "markdown",
   "id": "201fe3f3-f64e-4478-829c-435ddd12d212",
   "metadata": {},
   "source": [
    "### Plotting AUC ROC curve"
   ]
  },
  {
   "cell_type": "code",
   "execution_count": 75,
   "id": "50d46b72-0049-4eaa-aaca-533a29e334a3",
   "metadata": {},
   "outputs": [],
   "source": [
    "from sklearn.metrics import roc_curve,auc,roc_auc_score,precision_recall_curve\n",
    "from sklearn import metrics"
   ]
  },
  {
   "cell_type": "code",
   "execution_count": 76,
   "id": "74a66a9a-8829-4986-b696-b54b6bb50338",
   "metadata": {},
   "outputs": [
    {
     "data": {
      "image/png": "[encoded data removed]",
      "text/plain": [
       "<Figure size 1000x600 with 1 Axes>"
      ]
     },
     "metadata": {},
     "output_type": "display_data"
    }
   ],
   "source": [
    "# Calculate probabilities for the positive class\n",
    "y_prob = best_model.predict_proba(x_test)[:, 1]\n",
    "\n",
    "# Compute ROC curve and AUC\n",
    "fpr, tpr, thresholds = roc_curve(y_test, y_prob)\n",
    "roc_auc = auc(fpr, tpr)\n",
    "\n",
    "# Plot ROC curve\n",
    "plt.figure(figsize=(10, 6))\n",
    "plt.plot(fpr, tpr, color='green', lw=2, label=f'ROC curve (AUC = {roc_auc:.2f})', marker='o', markersize=3)\n",
    "plt.plot([0, 1], [0, 1], color='navy', lw=2, linestyle='--')\n",
    "plt.xlim([0.0, 1.0])\n",
    "plt.ylim([0.0, 1.05])\n",
    "plt.xlabel('False Positive Rate')\n",
    "plt.ylabel('True Positive Rate')\n",
    "plt.title('Receiver Operating Characteristic (ROC) Curve')\n",
    "plt.legend(loc=\"lower right\")\n",
    "plt.grid(True, linestyle='--', linewidth=0.5, alpha=0.5)\n",
    "plt.show()"
   ]
  },
  {
   "cell_type": "code",
   "execution_count": 77,
   "id": "6ccf53e8-e90a-4164-bfb6-19c9f52a3a61",
   "metadata": {},
   "outputs": [
    {
     "data": {
      "image/png": "[encoded data removed]",
      "text/plain": [
       "<Figure size 800x600 with 1 Axes>"
      ]
     },
     "metadata": {},
     "output_type": "display_data"
    }
   ],
   "source": [
    "from sklearn.metrics import precision_recall_curve\n",
    "\n",
    "# Calculate precision and recall\n",
    "precision, recall, thresholds = precision_recall_curve(y_test, y_prob)\n",
    "\n",
    "# Plot precision-recall curve\n",
    "plt.figure(figsize=(8, 6))\n",
    "plt.plot(recall, precision, color='blue', lw=2, label='Precision-Recall curve')\n",
    "plt.xlabel('Recall')\n",
    "plt.ylabel('Precision')\n",
    "plt.title('Precision-Recall Curve')\n",
    "plt.legend(loc=\"lower left\")\n",
    "plt.grid(True, linestyle='--', linewidth=0.5, alpha=0.5)\n",
    "plt.show()"
   ]
  },
  {
   "cell_type": "markdown",
   "id": "0a5f2b51-ed63-45a9-8bb3-1bcd8f7ff004",
   "metadata": {},
   "source": [
    "#### Saving the Model"
   ]
  },
  {
   "cell_type": "code",
   "execution_count": 78,
   "id": "b63841a5-6ca1-433b-91d1-0d4cb0a96a9a",
   "metadata": {},
   "outputs": [
    {
     "data": {
      "text/plain": [
       "['Census Income project.pkl']"
      ]
     },
     "execution_count": 78,
     "metadata": {},
     "output_type": "execute_result"
    }
   ],
   "source": [
    "#importing joblib and saving model\n",
    "import joblib\n",
    "joblib.dump(best_model,\"Census Income project.pkl\")"
   ]
  },
  {
   "cell_type": "code",
   "execution_count": 79,
   "id": "5dd07826-3afd-439b-8970-61de3b6aa60a",
   "metadata": {},
   "outputs": [],
   "source": [
    "#Now loading file and checcking prediction \n",
    "model=joblib.load(\"Census Income project.pkl\")"
   ]
  },
  {
   "cell_type": "code",
   "execution_count": 80,
   "id": "01e03bcc-33de-41ec-b61e-9e1f4db9ae11",
   "metadata": {},
   "outputs": [
    {
     "data": {
      "text/plain": [
       "array([1, 1, 0, ..., 1, 0, 0])"
      ]
     },
     "execution_count": 80,
     "metadata": {},
     "output_type": "execute_result"
    }
   ],
   "source": [
    "prediction=model.predict(x_test)\n",
    "prediction"
   ]
  },
  {
   "cell_type": "code",
   "execution_count": 81,
   "id": "a1941832-a01a-4853-9849-03e1b32759ab",
   "metadata": {},
   "outputs": [
    {
     "data": {
      "text/html": [
       "<div>\n",
       "<style scoped>\n",
       "    .dataframe tbody tr th:only-of-type {\n",
       "        vertical-align: middle;\n",
       "    }\n",
       "\n",
       "    .dataframe tbody tr th {\n",
       "        vertical-align: top;\n",
       "    }\n",
       "\n",
       "    .dataframe thead th {\n",
       "        text-align: right;\n",
       "    }\n",
       "</style>\n",
       "<table border=\"1\" class=\"dataframe\">\n",
       "  <thead>\n",
       "    <tr style=\"text-align: right;\">\n",
       "      <th></th>\n",
       "      <th>Original</th>\n",
       "      <th>prediction</th>\n",
       "    </tr>\n",
       "  </thead>\n",
       "  <tbody>\n",
       "    <tr>\n",
       "      <th>9685</th>\n",
       "      <td>1</td>\n",
       "      <td>1</td>\n",
       "    </tr>\n",
       "    <tr>\n",
       "      <th>9686</th>\n",
       "      <td>1</td>\n",
       "      <td>0</td>\n",
       "    </tr>\n",
       "    <tr>\n",
       "      <th>9687</th>\n",
       "      <td>0</td>\n",
       "      <td>1</td>\n",
       "    </tr>\n",
       "    <tr>\n",
       "      <th>9688</th>\n",
       "      <td>1</td>\n",
       "      <td>1</td>\n",
       "    </tr>\n",
       "    <tr>\n",
       "      <th>9689</th>\n",
       "      <td>1</td>\n",
       "      <td>1</td>\n",
       "    </tr>\n",
       "    <tr>\n",
       "      <th>9690</th>\n",
       "      <td>1</td>\n",
       "      <td>1</td>\n",
       "    </tr>\n",
       "    <tr>\n",
       "      <th>9691</th>\n",
       "      <td>0</td>\n",
       "      <td>0</td>\n",
       "    </tr>\n",
       "    <tr>\n",
       "      <th>9692</th>\n",
       "      <td>0</td>\n",
       "      <td>1</td>\n",
       "    </tr>\n",
       "    <tr>\n",
       "      <th>9693</th>\n",
       "      <td>0</td>\n",
       "      <td>0</td>\n",
       "    </tr>\n",
       "    <tr>\n",
       "      <th>9694</th>\n",
       "      <td>0</td>\n",
       "      <td>0</td>\n",
       "    </tr>\n",
       "  </tbody>\n",
       "</table>\n",
       "</div>"
      ],
      "text/plain": [
       "      Original  prediction\n",
       "9685         1           1\n",
       "9686         1           0\n",
       "9687         0           1\n",
       "9688         1           1\n",
       "9689         1           1\n",
       "9690         1           1\n",
       "9691         0           0\n",
       "9692         0           1\n",
       "9693         0           0\n",
       "9694         0           0"
      ]
     },
     "execution_count": 81,
     "metadata": {},
     "output_type": "execute_result"
    }
   ],
   "source": [
    "Original=np.array(y_test)\n",
    "df=pd.DataFrame()\n",
    "df['Original']=Original\n",
    "df['prediction']=prediction\n",
    "df.tail(10)"
   ]
  },
  {
   "cell_type": "code",
   "execution_count": null,
   "id": "7b2d3201-0478-4b26-96b1-bcd9f0450b4f",
   "metadata": {},
   "outputs": [],
   "source": []
  },
  {
   "cell_type": "code",
   "execution_count": null,
   "id": "beb8365b-808a-4d8f-bbe1-a69023257d2a",
   "metadata": {},
   "outputs": [],
   "source": []
  },
  {
   "cell_type": "code",
   "execution_count": null,
   "id": "469e477d-d54c-4227-a17f-03cf4badf4d2",
   "metadata": {},
   "outputs": [],
   "source": []
  },
  {
   "cell_type": "code",
   "execution_count": null,
   "id": "b98c0e3d-9c32-414c-b109-8f29428cbb1e",
   "metadata": {},
   "outputs": [],
   "source": []
  },
  {
   "cell_type": "code",
   "execution_count": null,
   "id": "a7509922-813d-47b4-9cb6-d76b78ae1e07",
   "metadata": {},
   "outputs": [],
   "source": []
  },
  {
   "cell_type": "code",
   "execution_count": null,
   "id": "22740f4d-3de8-48f0-96e0-17df7b557566",
   "metadata": {},
   "outputs": [],
   "source": []
  },
  {
   "cell_type": "code",
   "execution_count": null,
   "id": "61eff10f-4abd-4551-9e67-91d452f7cbe7",
   "metadata": {},
   "outputs": [],
   "source": []
  }
 ],
 "metadata": {
  "kernelspec": {
   "display_name": "Python 3 (ipykernel)",
   "language": "python",
   "name": "python3"
  },
  "language_info": {
   "codemirror_mode": {
    "name": "ipython",
    "version": 3
   },
   "file_extension": ".py",
   "mimetype": "text/x-python",
   "name": "python",
   "nbconvert_exporter": "python",
   "pygments_lexer": "ipython3",
   "version": "3.11.7"
  }
 },
 "nbformat": 4,
 "nbformat_minor": 5
}
